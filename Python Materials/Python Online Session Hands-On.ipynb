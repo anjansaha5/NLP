{
 "cells": [
  {
   "cell_type": "markdown",
   "metadata": {},
   "source": [
    "## Python Beginner's Tutorial\n",
    "Python is a general-purpose language. It is platform-independent. It has wide range of applications from Web Development(Like: Django and Flask), scientific and mathematical computing (Orange, SymPy, NumPy) to desktop graphical user Interfaces (Pygame, Panda3D).\n",
    "\n",
    "### All about Python\n",
    "### Why do people use Python??\n",
    "1. Software Quality\n",
    "1. Developer productivity\n",
    "1. Program portability\n",
    "1. Support libraries\n",
    "1. Component integration\n",
    "\n",
    "### Who uses Python Today??\n",
    "Besides Indiviual users, Python is applied in real revenue-generating products, by companies.\n",
    "\n",
    "Example:-\n",
    "\n",
    "1. Google and Yahoo! use Python in Internet Services.\n",
    "1. Hewlett-Packard , Seagate , IBM use Python for hardware testing.\n",
    "1. Industrial Light and Magic and other companies use Python in production of movie animation.\n",
    "The common thread behind these companies using Python is that Python is used all over the map,in terms of application domains.It general purpose nature makes it applicable to almost all fields. For more details about these companies using Python, you can visit the website http://www.python.org.\n",
    "\n",
    "### What can I Do with Python??\n",
    "Along with being a well-designed programming language, Python is also used in accomplishing real-world tasks. Python’s roles are virtually unlimited. Python roles seem to fall into a few broad categories. Some are mentioned below:-\n",
    "\n",
    "1. SYSTEMS PROGRAMMING: Python's std library comes with POSIX bindings, and support for all usual OS tools.\n",
    "1. GUIS: Python has a std. object-oriented interface to the Tk GUI API called Tkinter, which allows Python programs to implement portable GUIs with native look and feel.\n",
    "1. INTERNET SCRIPTING: Python comes with standard Internet modules CGI, mod_python, FastCGI and SCGI.\n",
    "1. COMPONENT INTEGRATION: Integrating a C library into Python , Python can test and launch its components.\n",
    "1. DATABASE PROGRAMMING: Python Standard 'pickle' it allows programs to easily save and restore entire Python objects to files and file-like objects.\n",
    "1. RAPID PROTOTYPING: To Python programs, components written in Python and C look the same. Because of this, it’s possible to prototype systems in Python initially and then move components to a compiled language such as C or C++ for delivery.\n",
    "1. NUMERIC PROGRAMMING: The Numpy[Numeric Python] is an advanced tool as an array object, interfaces to standard mathematical libraries.\n",
    "1. GAMING, IMAGES, AI, XML, AND MORE: We can do game programming with 'pygame' system, Image processing with PIL package , AI programming with neural network simulators, XML parsing with the xml library package.\n",
    "\n",
    "### What are Python's Technical Strengths??\n",
    "It is :-\n",
    "\n",
    "1. Object-Oriented\n",
    "1. Free\n",
    "1. Portable\n",
    "1. Powerful\n",
    "    - 4.1 Dynamic Typing\n",
    "    - 4.2 Automatic memory management\n",
    "    - 4.3 Programming-in-large support\n",
    "    - 4.4 Built-in object types\n",
    "    - 4.5 Built-in tools\n",
    "    - 4.6 Library utilities\n",
    "1. It is easy to use\n",
    "1. It is easy to learn\n",
    "\n",
    "\n",
    "### Getting Started\n",
    "Before we start venturing into Python, you all must have installed Python in your systems. To those who haven't installed Python.\n",
    "\n",
    "Please follow the instructions:-\n",
    "\n",
    "1. Standalone can be installed from Python Website https://www.python.org.\n",
    "1. ANACONDA installs python by default. Anaconda is a package management system which is single point of source for most data science packages. It includes default IDE and Jupyter as well. Please install from continum.io website.\n",
    "\n",
    "### Python Program Structure\n",
    "Python programs can be decomposed into modules, statements , expressions and objects as follows:-\n",
    "\n",
    "1. Programs are decomposed of modules\n",
    "1. Modules contain statements\n",
    "1. Statements contain expressions\n",
    "1. Expressions create and process objects\n",
    "\n",
    "### Why use Built-in Types?\n",
    "We usually use Built-in Types because they are better off than implementing on our own. Here, are some of the reasons:\n",
    "\n",
    "1. They make program easy to write\n",
    "1. They are components of extensions\n",
    "1. They are often more efficient than custom data structures\n",
    "1. They are a standard part of the language"
   ]
  },
  {
   "cell_type": "code",
   "execution_count": 1,
   "metadata": {},
   "outputs": [
    {
     "data": {
      "text/plain": [
       "100"
      ]
     },
     "execution_count": 1,
     "metadata": {},
     "output_type": "execute_result"
    }
   ],
   "source": [
    "#using int data type\n",
    "i = 100\n",
    "i"
   ]
  },
  {
   "cell_type": "code",
   "execution_count": 2,
   "metadata": {},
   "outputs": [
    {
     "data": {
      "text/plain": [
       "12.3"
      ]
     },
     "execution_count": 2,
     "metadata": {},
     "output_type": "execute_result"
    }
   ],
   "source": [
    "# using float data type\n",
    "f = 12.3\n",
    "f"
   ]
  },
  {
   "cell_type": "code",
   "execution_count": 3,
   "metadata": {},
   "outputs": [
    {
     "data": {
      "text/plain": [
       "(2+3j)"
      ]
     },
     "execution_count": 3,
     "metadata": {},
     "output_type": "execute_result"
    }
   ],
   "source": [
    "# using complex data type\n",
    "x = 2 + 3j  #  where 2 is the real part and 3 is imaginary\n",
    "x"
   ]
  },
  {
   "cell_type": "markdown",
   "metadata": {},
   "source": [
    "### Python Expression Operators\n",
    "The most fundamental tool that processes numbers is expression : a combination of numbers (or other objects) and operators that computes a value when executed by Python. For instance, to add two numbers X and Y you would say X + Y, which tells Python to apply + operator to values named X and Y.\n",
    "\n",
    "Consider an expression in the form of A * B + C, instead of coding in this form if we evaluate expression in desired order:-\n",
    "\n",
    "1. A * (B + C)\n",
    "1. (A * B) + C\n",
    "In first case, '+' is first applied to B and C because the subexpression is enclosed in parantheses. In Second case, '*' is first applied to A and B because the subexpression is enclosed in parantheses.\n",
    "\n",
    "### Class task\n",
    "What is the value of the expression 6 * (7 + 9) in Python?\n",
    "What is the value of the expression 6 * 7 + 9 in Python?\n",
    "How can you convert an integer to a floating-point number?\n",
    "How might you convert an octal, hexadecimal, or binary string to a plain integer and vice-versa?\n",
    "How can you truncate and round a floating-point number?\n",
    "\n",
    "### Lists\n",
    "Lists are Python's most flexible ordered collection of object type. Unlike strings, lists can contain any sort of object: numbers, strings and even other lists. Also unlike strings , lists may be changed in-place by assingment to offset and slices, list method calls(extend,append...), deletion statements (remove, pop)- they are mutable objects.\n",
    "\n",
    "### Basic List Operations"
   ]
  },
  {
   "cell_type": "code",
   "execution_count": 4,
   "metadata": {},
   "outputs": [
    {
     "name": "stdout",
     "output_type": "stream",
     "text": [
      "['Mumbai', 'Bangalore', 'Hyderabad', 'Chennai', 'Delhi']\n"
     ]
    }
   ],
   "source": [
    "# Consider a Simple List\n",
    "cities = ['Mumbai', 'Bangalore', 'Hyderabad', 'Chennai', 'Delhi']\n",
    "print(cities)"
   ]
  },
  {
   "cell_type": "code",
   "execution_count": 5,
   "metadata": {},
   "outputs": [
    {
     "data": {
      "text/plain": [
       "5"
      ]
     },
     "execution_count": 5,
     "metadata": {},
     "output_type": "execute_result"
    }
   ],
   "source": [
    "# Length of a list\n",
    "len(cities)"
   ]
  },
  {
   "cell_type": "code",
   "execution_count": 6,
   "metadata": {},
   "outputs": [
    {
     "data": {
      "text/plain": [
       "'Bangalore'"
      ]
     },
     "execution_count": 6,
     "metadata": {},
     "output_type": "execute_result"
    }
   ],
   "source": [
    "# Indexing and Slicing a list( Python index starts from 0)\n",
    "cities[1]"
   ]
  },
  {
   "cell_type": "code",
   "execution_count": 7,
   "metadata": {},
   "outputs": [
    {
     "data": {
      "text/plain": [
       "'Delhi'"
      ]
     },
     "execution_count": 7,
     "metadata": {},
     "output_type": "execute_result"
    }
   ],
   "source": [
    "cities[-1] # prints last element of a list"
   ]
  },
  {
   "cell_type": "code",
   "execution_count": 8,
   "metadata": {},
   "outputs": [
    {
     "data": {
      "text/plain": [
       "['Mumbai',\n",
       " 'Bangalore',\n",
       " 'Hyderabad',\n",
       " 'Chennai',\n",
       " 'Delhi',\n",
       " 'Pune',\n",
       " 'Noida',\n",
       " 'Gurgaon']"
      ]
     },
     "execution_count": 8,
     "metadata": {},
     "output_type": "execute_result"
    }
   ],
   "source": [
    "# Inorder to add multiple cities together in the list we add extend method.\n",
    "cities.extend(['Pune','Noida','Gurgaon'])\n",
    "cities"
   ]
  },
  {
   "cell_type": "code",
   "execution_count": 9,
   "metadata": {},
   "outputs": [
    {
     "data": {
      "text/plain": [
       "['Mumbai', 'Bangalore', 'Hyderabad']"
      ]
     },
     "execution_count": 9,
     "metadata": {},
     "output_type": "execute_result"
    }
   ],
   "source": [
    "cities[0:3] # prints elements upto 2nd column"
   ]
  },
  {
   "cell_type": "code",
   "execution_count": 10,
   "metadata": {},
   "outputs": [
    {
     "data": {
      "text/plain": [
       "['Mumbai', 'Bangalore']"
      ]
     },
     "execution_count": 10,
     "metadata": {},
     "output_type": "execute_result"
    }
   ],
   "source": [
    "cities[:2] # prints elements upto 1st column"
   ]
  },
  {
   "cell_type": "code",
   "execution_count": 11,
   "metadata": {},
   "outputs": [
    {
     "name": "stdout",
     "output_type": "stream",
     "text": [
      "['Mumbai', 'Bangalore', 'Hyderabad', 'Chennai']\n"
     ]
    },
    {
     "data": {
      "text/plain": [
       "['Mumbai', 'Hyderabad']"
      ]
     },
     "execution_count": 11,
     "metadata": {},
     "output_type": "execute_result"
    }
   ],
   "source": [
    "print (cities[0:4:1]) # 0,1,2,3 items in index\n",
    "cities[0:4:2] # 0, 1 not picked , 2 picked , 3rd not picked"
   ]
  },
  {
   "cell_type": "markdown",
   "metadata": {},
   "source": [
    "### List Comprehension\n",
    "List comprehensions are a way to build a new list by applying an expression to each item in a sequence, and are close relatives to 'for' loops."
   ]
  },
  {
   "cell_type": "code",
   "execution_count": 12,
   "metadata": {},
   "outputs": [],
   "source": [
    "# Using list comprehension technique\n",
    "list_a = [1, 2, 3, 4]\n",
    "list_b = [2, 3, 4, 5]\n",
    "\n",
    "common_num = [a for a in list_a for b in list_b if a == b]"
   ]
  },
  {
   "cell_type": "code",
   "execution_count": 13,
   "metadata": {},
   "outputs": [
    {
     "data": {
      "text/plain": [
       "[2, 3, 4]"
      ]
     },
     "execution_count": 13,
     "metadata": {},
     "output_type": "execute_result"
    }
   ],
   "source": [
    "common_num"
   ]
  },
  {
   "cell_type": "markdown",
   "metadata": {},
   "source": [
    "### List method calls\n",
    "Like strings, Python list objects also support type-specific method calls , many of which change the subject list inplace."
   ]
  },
  {
   "cell_type": "code",
   "execution_count": 14,
   "metadata": {},
   "outputs": [
    {
     "data": {
      "text/plain": [
       "['Mumbai',\n",
       " 'Bangalore',\n",
       " 'Hyderabad',\n",
       " 'Chennai',\n",
       " 'Delhi',\n",
       " 'Pune',\n",
       " 'Noida',\n",
       " 'Gurgaon',\n",
       " 'Kolkata']"
      ]
     },
     "execution_count": 14,
     "metadata": {},
     "output_type": "execute_result"
    }
   ],
   "source": [
    "# Consider the list stated above 'cities'\n",
    "# 'Append' list by adding a new city 'Chennai' to it at the end\n",
    "cities.append('Kolkata')\n",
    "cities"
   ]
  },
  {
   "cell_type": "code",
   "execution_count": 15,
   "metadata": {},
   "outputs": [
    {
     "data": {
      "text/plain": [
       "['Bangalore',\n",
       " 'Chennai',\n",
       " 'Delhi',\n",
       " 'Gurgaon',\n",
       " 'Hyderabad',\n",
       " 'Kolkata',\n",
       " 'Mumbai',\n",
       " 'Noida',\n",
       " 'Pune']"
      ]
     },
     "execution_count": 15,
     "metadata": {},
     "output_type": "execute_result"
    }
   ],
   "source": [
    "# Let's sort the list in a alphabetical order\n",
    "cities.sort()\n",
    "cities"
   ]
  },
  {
   "cell_type": "code",
   "execution_count": 16,
   "metadata": {},
   "outputs": [
    {
     "data": {
      "text/plain": [
       "['Bangalore',\n",
       " 'Chennai',\n",
       " 'Delhi',\n",
       " 'Gurgaon',\n",
       " 'Hyderabad',\n",
       " 'Kolkata',\n",
       " 'Mumbai',\n",
       " 'Noida',\n",
       " 'Pune',\n",
       " 'Pune',\n",
       " 'Noida',\n",
       " 'Gurgaon']"
      ]
     },
     "execution_count": 16,
     "metadata": {},
     "output_type": "execute_result"
    }
   ],
   "source": [
    "# Inorder to add multiple cities together in the list we add extend method.\n",
    "cities.extend(['Pune','Noida','Gurgaon'])\n",
    "cities"
   ]
  },
  {
   "cell_type": "code",
   "execution_count": 17,
   "metadata": {},
   "outputs": [
    {
     "data": {
      "text/plain": [
       "['Bangalore',\n",
       " 'Chennai',\n",
       " 'Delhi',\n",
       " 'Gurgaon',\n",
       " 'Hyderabad',\n",
       " 'Kolkata',\n",
       " 'Mumbai',\n",
       " 'Noida',\n",
       " 'Pune',\n",
       " 'Pune',\n",
       " 'Noida']"
      ]
     },
     "execution_count": 17,
     "metadata": {},
     "output_type": "execute_result"
    }
   ],
   "source": [
    "# Removing cities from a list we use pop method( removes last element from list)\n",
    "cities.pop()\n",
    "cities"
   ]
  },
  {
   "cell_type": "code",
   "execution_count": 18,
   "metadata": {},
   "outputs": [
    {
     "data": {
      "text/plain": [
       "['Bangalore',\n",
       " 'Chennai',\n",
       " 'Gurgaon',\n",
       " 'Hyderabad',\n",
       " 'Kolkata',\n",
       " 'Mumbai',\n",
       " 'Noida',\n",
       " 'Pune',\n",
       " 'Pune',\n",
       " 'Noida']"
      ]
     },
     "execution_count": 18,
     "metadata": {},
     "output_type": "execute_result"
    }
   ],
   "source": [
    "# To remove a city from a list we can also use remove method\n",
    "cities.remove('Delhi')\n",
    "cities"
   ]
  },
  {
   "cell_type": "markdown",
   "metadata": {},
   "source": [
    "### Class Task \n",
    "1. Difference between sort method and sorted method.\n",
    "1. Difference between pop method and remove method.\n",
    "1. Explore insert(), index()\n",
    "1. Find the output of del cities[0], del cities[1:]\n",
    "\n",
    "### Dictionaries\n",
    "Dictionaries are perhaps most flexible data-type in Python. If you think of lists as ordered collections of objects, you can think dictionaries as unordered collections; the chief distinction is that dictionaries, items are sorted and fetched by key, instead of positional offset.\n",
    "\n",
    "When coded as a literal expression , a dictionary is written as a series of key:value pairs, separated by commas, enclosed in curly braces. An empty dictionary is an empty set of braces, and dictionaries can be nested by writing one as value inside another dictionary or within a list or tuple.\n",
    "\n",
    "#### Basic Dictionary Operations"
   ]
  },
  {
   "cell_type": "code",
   "execution_count": 19,
   "metadata": {},
   "outputs": [
    {
     "name": "stdout",
     "output_type": "stream",
     "text": [
      "{'a': 'apple', 'b': 'ball', 'c': 'cat'}\n"
     ]
    }
   ],
   "source": [
    "sample_dict = {'a':'apple','b':'ball','c':'cat'}\n",
    "print(sample_dict)"
   ]
  },
  {
   "cell_type": "code",
   "execution_count": 20,
   "metadata": {},
   "outputs": [
    {
     "name": "stdout",
     "output_type": "stream",
     "text": [
      "apple\n"
     ]
    }
   ],
   "source": [
    "# accessing dictionary elements\n",
    "print(sample_dict['a'])"
   ]
  },
  {
   "cell_type": "code",
   "execution_count": 21,
   "metadata": {},
   "outputs": [
    {
     "name": "stdout",
     "output_type": "stream",
     "text": [
      "apple\n"
     ]
    }
   ],
   "source": [
    "# accessing using get method\n",
    "print(sample_dict.get('a'))"
   ]
  },
  {
   "cell_type": "code",
   "execution_count": 22,
   "metadata": {},
   "outputs": [
    {
     "data": {
      "text/plain": [
       "dict_items([('a', 'apple'), ('b', 'ball'), ('c', 'cat')])"
      ]
     },
     "execution_count": 22,
     "metadata": {},
     "output_type": "execute_result"
    }
   ],
   "source": [
    "# Accessing the items(key,values) of dictionary 'sample_dict'\n",
    "sample_dict.items()"
   ]
  },
  {
   "cell_type": "code",
   "execution_count": 23,
   "metadata": {},
   "outputs": [
    {
     "data": {
      "text/plain": [
       "dict_keys(['a', 'b', 'c'])"
      ]
     },
     "execution_count": 23,
     "metadata": {},
     "output_type": "execute_result"
    }
   ],
   "source": [
    "# Accessing only the keys\n",
    "sample_dict.keys()"
   ]
  },
  {
   "cell_type": "code",
   "execution_count": 24,
   "metadata": {},
   "outputs": [
    {
     "data": {
      "text/plain": [
       "dict_values(['apple', 'ball', 'cat'])"
      ]
     },
     "execution_count": 24,
     "metadata": {},
     "output_type": "execute_result"
    }
   ],
   "source": [
    "# Accessing the values of dictionary 'sample_dict'\n",
    "sample_dict.values()"
   ]
  },
  {
   "cell_type": "code",
   "execution_count": 25,
   "metadata": {},
   "outputs": [
    {
     "name": "stdout",
     "output_type": "stream",
     "text": [
      "--------------------\n",
      "ITEMS IN DICT ARE : \n",
      "('a', 'apple')\n",
      "('b', 'ball')\n",
      "('c', 'cat')\n",
      "--------------------\n"
     ]
    }
   ],
   "source": [
    "# Iterating a dictionary\n",
    "print('-'*20)\n",
    "print('ITEMS IN DICT ARE : ')\n",
    "for item in sample_dict.items():\n",
    "    print(item)\n",
    "print('-'*20)"
   ]
  },
  {
   "cell_type": "code",
   "execution_count": 26,
   "metadata": {},
   "outputs": [
    {
     "name": "stdout",
     "output_type": "stream",
     "text": [
      "apple\n",
      "ball\n",
      "cat\n"
     ]
    }
   ],
   "source": [
    "# Extracting items by iterating dictionary keys\n",
    "for item in sample_dict.keys():\n",
    "    print(sample_dict[item])"
   ]
  },
  {
   "cell_type": "code",
   "execution_count": 27,
   "metadata": {},
   "outputs": [
    {
     "name": "stdout",
     "output_type": "stream",
     "text": [
      "KEYS : \n",
      "a\n",
      "b\n",
      "c\n"
     ]
    }
   ],
   "source": [
    "# Extracting only keys of dictionary sample_dict\n",
    "print('KEYS : ')\n",
    "for key in sample_dict.keys():\n",
    "    print(key)"
   ]
  },
  {
   "cell_type": "code",
   "execution_count": 28,
   "metadata": {},
   "outputs": [],
   "source": [
    "# Extracting a specific key\n",
    "sample_dict['a'] = 'grape'"
   ]
  },
  {
   "cell_type": "code",
   "execution_count": 29,
   "metadata": {},
   "outputs": [
    {
     "name": "stdout",
     "output_type": "stream",
     "text": [
      "Sample_dict after poping 2 element {'b': 'ball', 'c': 'cat'}\n"
     ]
    }
   ],
   "source": [
    "# Removing items from Python Dictionary\n",
    "# pop - removes item specified by the given key\n",
    "sample_dict.pop('a')\n",
    "print('Sample_dict after poping 2 element',sample_dict)"
   ]
  },
  {
   "cell_type": "code",
   "execution_count": 30,
   "metadata": {},
   "outputs": [
    {
     "name": "stdout",
     "output_type": "stream",
     "text": [
      "Sample_dict after clearing -> {}\n"
     ]
    }
   ],
   "source": [
    "# clear - removes all the items from dictionary\n",
    "sample_dict.clear()\n",
    "print('Sample_dict after clearing ->',sample_dict)"
   ]
  },
  {
   "cell_type": "markdown",
   "metadata": {},
   "source": [
    "#### Class task \n",
    "Create a python dictionary and add elements (key,value) pair to it.\n",
    "\n",
    "#### Strings\n",
    "It is an ordered collection of characters, used to store and represent text-based information. From a functional prespective, strings can be used to represent just about anything that can be encoded as text: symbols and words, content of text files loaded into memory, Internet addresses, Python programs and so on..\n",
    "\n",
    "#### String Literals\n",
    "Strings are easy to use in Python. The only complicated thing is that there are many ways to use them in code.\n",
    "\n",
    "Some of the common string literals are:-\n",
    "\n",
    "- Single Quotes:'spa''m'\n",
    "- Double Quotes:\"spa'm\"\n",
    "- Triple quotes: '''... spam ...''', \"\"\"... spam ...\"\"\"\n",
    "- Escape sequences: \"s\\tp\\na\\0m\"`\n",
    "\n",
    "Also, why printing words such as 'day's' ,'years'' we need to make use of 'day\\'s' or \"day\\\"s\" for single and double quotation."
   ]
  },
  {
   "cell_type": "code",
   "execution_count": 31,
   "metadata": {},
   "outputs": [
    {
     "name": "stdout",
     "output_type": "stream",
     "text": [
      "a\n",
      "b\tc\n"
     ]
    }
   ],
   "source": [
    "# The blackslashes in a string let's us introduce to a special byte code called 'escape sequences'.\n",
    "# Consider the string\n",
    "s ='a\\nb\\tc'\n",
    "print(s)\n",
    "# Here, \\n represents a new-line character and \\t represents a tab character\n"
   ]
  },
  {
   "cell_type": "code",
   "execution_count": 32,
   "metadata": {},
   "outputs": [
    {
     "data": {
      "text/plain": [
       "'C:\\\\py\\\\code'"
      ]
     },
     "execution_count": 32,
     "metadata": {},
     "output_type": "execute_result"
    }
   ],
   "source": [
    "# If python doesn't recognize character as an escape sequence it simply keeps as it is(File location)\n",
    "x = \"C:\\py\\code\"\n",
    "x"
   ]
  },
  {
   "cell_type": "markdown",
   "metadata": {},
   "source": [
    "#### Class Task \n",
    "How many characters are there in the string \"a\\nb\\x1f\\000d\"?\n",
    "\n",
    "#### Basic Operations in String\n",
    "1. Length of a string"
   ]
  },
  {
   "cell_type": "code",
   "execution_count": 33,
   "metadata": {},
   "outputs": [
    {
     "name": "stdout",
     "output_type": "stream",
     "text": [
      "Length of s =  38\n"
     ]
    }
   ],
   "source": [
    "# Length of a string\n",
    "s = \"Hey there! what should this string be?\"\n",
    "print(\"Length of s = \",len(s)) # %d acts as a placeholder for number"
   ]
  },
  {
   "cell_type": "code",
   "execution_count": 34,
   "metadata": {},
   "outputs": [
    {
     "data": {
      "text/plain": [
       "'SupervisedLearning'"
      ]
     },
     "execution_count": 34,
     "metadata": {},
     "output_type": "execute_result"
    }
   ],
   "source": [
    "# Concatenation of a strings\n",
    "combine = 'Supervised' + 'Learning'\n",
    "combine"
   ]
  },
  {
   "cell_type": "code",
   "execution_count": 35,
   "metadata": {},
   "outputs": [
    {
     "data": {
      "text/plain": [
       "'AI!!AI!!AI!!AI!!AI!!'"
      ]
     },
     "execution_count": 35,
     "metadata": {},
     "output_type": "execute_result"
    }
   ],
   "source": [
    "# Repetition of a string multiple times\n",
    "repetition = 'AI!!' * 5\n",
    "repetition\n"
   ]
  },
  {
   "cell_type": "code",
   "execution_count": 36,
   "metadata": {},
   "outputs": [
    {
     "data": {
      "text/plain": [
       "'------------------------------'"
      ]
     },
     "execution_count": 36,
     "metadata": {},
     "output_type": "execute_result"
    }
   ],
   "source": [
    "# We can also add dashes '-' in a similar way\n",
    "dashes= '-' * 30\n",
    "dashes"
   ]
  },
  {
   "cell_type": "code",
   "execution_count": 37,
   "metadata": {},
   "outputs": [
    {
     "ename": "TypeError",
     "evalue": "can only concatenate str (not \"int\") to str",
     "output_type": "error",
     "traceback": [
      "\u001b[1;31m---------------------------------------------------------------------------\u001b[0m",
      "\u001b[1;31mTypeError\u001b[0m                                 Traceback (most recent call last)",
      "\u001b[1;32m<ipython-input-37-1148d946e028>\u001b[0m in \u001b[0;36m<module>\u001b[1;34m\u001b[0m\n\u001b[0;32m      2\u001b[0m instead of automatically converting 9 to a string.'''\n\u001b[0;32m      3\u001b[0m \u001b[1;33m\u001b[0m\u001b[0m\n\u001b[1;32m----> 4\u001b[1;33m \u001b[0mmix\u001b[0m \u001b[1;33m=\u001b[0m \u001b[1;34m'a'\u001b[0m \u001b[1;33m+\u001b[0m \u001b[1;36m9\u001b[0m\u001b[1;33m\u001b[0m\u001b[1;33m\u001b[0m\u001b[0m\n\u001b[0m\u001b[0;32m      5\u001b[0m \u001b[0mmix\u001b[0m\u001b[1;33m\u001b[0m\u001b[1;33m\u001b[0m\u001b[0m\n",
      "\u001b[1;31mTypeError\u001b[0m: can only concatenate str (not \"int\") to str"
     ]
    }
   ],
   "source": [
    "'''Also, note Python doesn't allow to mix a string such as 'a' and an integer 9 . It raises an error\n",
    "instead of automatically converting 9 to a string.'''\n",
    "\n",
    "mix = 'a' + 9\n",
    "mix"
   ]
  },
  {
   "cell_type": "markdown",
   "metadata": {},
   "source": [
    "#### Class Task \n",
    "1. Calculate Length of the String 'Python for Beginners'.\n",
    "1. Combine the string 'Python''for''Data Science'.\n",
    "1. Try to combine a 'only' + 1.0 and check the result.\n",
    "\n",
    "#### Indexing and Slicing\n",
    "In Python , the characters in a string are fetched by Indexing - providing the numeric offset of the desired component in square brackets after the string.You get the one-character string at the specified position."
   ]
  },
  {
   "cell_type": "code",
   "execution_count": 38,
   "metadata": {},
   "outputs": [
    {
     "name": "stdout",
     "output_type": "stream",
     "text": [
      "The first occurrence of the letter a =  13\n"
     ]
    }
   ],
   "source": [
    "# Index of a string\n",
    "s = \"Hey there! what should this string be?\"\n",
    "print(\"The first occurrence of the letter a = \",s.index(\"a\")) # First occurrence of \"a\" "
   ]
  },
  {
   "cell_type": "code",
   "execution_count": 39,
   "metadata": {},
   "outputs": [
    {
     "name": "stdout",
     "output_type": "stream",
     "text": [
      "The first five characters are '' Hey t\n",
      "The next five characters are '' here!\n",
      "The thirteenth character is '' h\n",
      "The characters with odd index are '' e hr!wa hudti tigb?\n",
      "The last five characters are '' g be?\n"
     ]
    }
   ],
   "source": [
    "# Slicing a string\n",
    "print(\"The first five characters are ''\",s[:5]) # Start upto 5th position\n",
    "print(\"The next five characters are ''\",s[5:10]) # From 5th upto 10th position\n",
    "print(\"The thirteenth character is ''\",s[12]) # Just 12th position\n",
    "print(\"The characters with odd index are ''\",s[1::2]) # (0-based indexing)\n",
    "print(\"The last five characters are ''\",s[-5:]) # Last 5 characters of a string"
   ]
  },
  {
   "cell_type": "markdown",
   "metadata": {},
   "source": [
    "#### String Methods\n",
    "Strings provide a set of methods that implement more sophisticated text-processing tasks. In Python,expressions and built-in functions may work across a range of types, but methods are specific to object types - string methods for example work only on string objects.\n",
    "\n",
    "Examples: -"
   ]
  },
  {
   "cell_type": "code",
   "execution_count": 41,
   "metadata": {},
   "outputs": [
    {
     "data": {
      "text/plain": [
       "'How aab you doing?'"
      ]
     },
     "execution_count": 41,
     "metadata": {},
     "output_type": "execute_result"
    }
   ],
   "source": [
    "# Changing Strings\n",
    "'''Strings are immutable which cannot be changed in-place directly. To make a new text value from an\n",
    "existing string, you construct a new string with operations such as slicing and concatenation.'''\n",
    "\n",
    "s = 'How are you doing?' # Replace 're' with 'ab'\n",
    "s = s[:5]+'ab'+s[7:]\n",
    "s"
   ]
  },
  {
   "cell_type": "code",
   "execution_count": 42,
   "metadata": {},
   "outputs": [
    {
     "data": {
      "text/plain": [
       "'How aab you doing?'"
      ]
     },
     "execution_count": 42,
     "metadata": {},
     "output_type": "execute_result"
    }
   ],
   "source": [
    "# If we want to replace just a substring we can use the replace method.\n",
    "s.replace('re','ab')\n",
    "s"
   ]
  },
  {
   "cell_type": "code",
   "execution_count": 43,
   "metadata": {},
   "outputs": [
    {
     "data": {
      "text/plain": [
       "8"
      ]
     },
     "execution_count": 43,
     "metadata": {},
     "output_type": "execute_result"
    }
   ],
   "source": [
    "# Inorder to know the offset of the substring in a string , we make use of 'find' method\n",
    "str_find = s.find('you')\n",
    "str_find\n",
    "# This implies 'you' substring is at index 8."
   ]
  },
  {
   "cell_type": "code",
   "execution_count": 44,
   "metadata": {},
   "outputs": [
    {
     "data": {
      "text/plain": [
       "'Sunny weather nowdays'"
      ]
     },
     "execution_count": 44,
     "metadata": {},
     "output_type": "execute_result"
    }
   ],
   "source": [
    "'''If we want to combine mutliple strings together in a list( about which we are going to learn in\n",
    "next section) we make use of 'join' keyword.'''\n",
    "\n",
    "lst = ['Sunny','weather','nowdays']\n",
    "join_str = ' '.join(lst)\n",
    "join_str\n",
    "\n",
    "# 'join' method makes use of separators like either ',' ,';',' ' and so on to combine strings"
   ]
  },
  {
   "cell_type": "code",
   "execution_count": 45,
   "metadata": {},
   "outputs": [
    {
     "data": {
      "text/plain": [
       "['Welcome', 'to', 'Supervised', 'Learning']"
      ]
     },
     "execution_count": 45,
     "metadata": {},
     "output_type": "execute_result"
    }
   ],
   "source": [
    "# The opposite of 'join' method is the 'split' method use to split the string\n",
    "splt_string = 'Welcome to Supervised Learning'\n",
    "splt_string = splt_string.split()\n",
    "splt_string\n",
    "# This method splits strings by space in the above example"
   ]
  },
  {
   "cell_type": "code",
   "execution_count": 46,
   "metadata": {},
   "outputs": [
    {
     "data": {
      "text/plain": [
       "\"Let's being the python tutorial\""
      ]
     },
     "execution_count": 46,
     "metadata": {},
     "output_type": "execute_result"
    }
   ],
   "source": [
    "# Other string methods\n",
    "str = 'Let\\'s being the python tutorial  '\n",
    "str.rstrip() # it truncates any spaces present on the right-hand side of a string"
   ]
  },
  {
   "cell_type": "code",
   "execution_count": 47,
   "metadata": {},
   "outputs": [
    {
     "data": {
      "text/plain": [
       "\"LET'S BEING THE PYTHON TUTORIAL  \""
      ]
     },
     "execution_count": 47,
     "metadata": {},
     "output_type": "execute_result"
    }
   ],
   "source": [
    "str.upper() # Converts string to uppercase"
   ]
  },
  {
   "cell_type": "code",
   "execution_count": 48,
   "metadata": {},
   "outputs": [
    {
     "data": {
      "text/plain": [
       "False"
      ]
     },
     "execution_count": 48,
     "metadata": {},
     "output_type": "execute_result"
    }
   ],
   "source": [
    "str.isalpha() # this string returns method as False as there are spaces present in them"
   ]
  },
  {
   "cell_type": "code",
   "execution_count": 49,
   "metadata": {},
   "outputs": [
    {
     "data": {
      "text/plain": [
       "False"
      ]
     },
     "execution_count": 49,
     "metadata": {},
     "output_type": "execute_result"
    }
   ],
   "source": [
    "str.endswith('ri') # method checks with the string ends with the substring "
   ]
  },
  {
   "cell_type": "code",
   "execution_count": 50,
   "metadata": {},
   "outputs": [
    {
     "data": {
      "text/plain": [
       "True"
      ]
     },
     "execution_count": 50,
     "metadata": {},
     "output_type": "execute_result"
    }
   ],
   "source": [
    "str.startswith('Le') # checks if the string starts with the substring"
   ]
  },
  {
   "cell_type": "markdown",
   "metadata": {},
   "source": [
    "#### Class Task \n",
    "Consider the string.\n",
    "\n",
    "String_var = \"\"\" This document will help you to explore all the concepts of Python Strings!!! \"\"\"\n",
    "\n",
    "1. Result of slicing a string print(String_var[7:-4])\n",
    "1. Replace 'document' with 'task' in above string\n",
    "1. Split the string with space\n",
    "1. Convert the entire string to lowercase\n",
    "1. Remove all special characters and retain only text in the string.\n",
    "1. Check whether the string isalpha()\n",
    "1. Check whether the string endswith character 'S'.\n",
    "\n",
    "#### String Formatting Expressions\n",
    "Although we get lot done with string methods , Python provides a more advanced way to combine string processing tasks i.e. using String formatting.\n",
    "\n",
    "To format strings:\n",
    "\n",
    "1. On the left of the % operator, provide a format string containing one or more embedded conversion targets, each of which starts with a % such as %d.\n",
    "1. On the right of the % operator, provide the object that you want Python to insert into the format string on the left in place of the conversion target."
   ]
  },
  {
   "cell_type": "code",
   "execution_count": 51,
   "metadata": {},
   "outputs": [
    {
     "name": "stdout",
     "output_type": "stream",
     "text": [
      "It was a 1 sided match\n"
     ]
    }
   ],
   "source": [
    "frmt_str = 'It was a %d %s match' % (1, 'sided')\n",
    "print(frmt_str)"
   ]
  },
  {
   "cell_type": "markdown",
   "metadata": {},
   "source": [
    "#### Class Task \n",
    "1. Try to find out the various format expressions mostly used.\n",
    "1. Apply those format expressions to your own string.\n",
    "\n",
    "#### Flow of control\n",
    "If, If... else,If...elif....\n",
    "\n",
    "Python supports the usual logical conditions from mathematics:\n",
    "\n",
    "- Equals: a == b\n",
    "- Not Equals: a != b\n",
    "- Less than: a < b\n",
    "- Less than or equal to: a <= b\n",
    "- Greater than: a > b\n",
    "- Greater than or equal to: a >= b\n",
    "\n",
    "These conditions can be used in several ways, most commonly in \"if statements\" and loops."
   ]
  },
  {
   "cell_type": "code",
   "execution_count": 52,
   "metadata": {},
   "outputs": [
    {
     "name": "stdout",
     "output_type": "stream",
     "text": [
      "Negative Number\n"
     ]
    }
   ],
   "source": [
    "# We use If... else condition inorder to check if the condition is True or False .\n",
    "# In the below code we are going to check if the number is positive or negative number.\n",
    "a = -5\n",
    "if a < 0:\n",
    "    print('Negative Number')\n",
    "elif a > 0: \n",
    "    print('Positive Number')\n",
    "else:\n",
    "    print('Zero')\n"
   ]
  },
  {
   "cell_type": "code",
   "execution_count": 53,
   "metadata": {},
   "outputs": [
    {
     "name": "stdout",
     "output_type": "stream",
     "text": [
      "Positive number\n"
     ]
    }
   ],
   "source": [
    "# Nested If... else\n",
    "# Based on a particular If condition the nested If are processed\n",
    "a = 3\n",
    "if a >= 0:\n",
    "    if a == 0:\n",
    "        print(\"Zero\")\n",
    "    else:\n",
    "        print(\"Positive number\")\n",
    "else:\n",
    "    print(\"Negative number\")"
   ]
  },
  {
   "cell_type": "markdown",
   "metadata": {},
   "source": [
    "#### Class Task \n",
    "Using if....else statement write a code to print if the temperature in Hyderabad exceeds more than 42 degrees,\" It is very sunny today\" otherwise \" The weather is okay\".\n",
    "\n",
    "#### For loop\n",
    "The for loop is a generic sequence iterator in Python: it can step through the items in any ordered sequence object. The for statement works on strings, lists, tuples, other built-in iterables."
   ]
  },
  {
   "cell_type": "code",
   "execution_count": 54,
   "metadata": {},
   "outputs": [
    {
     "ename": "SyntaxError",
     "evalue": "invalid syntax (<ipython-input-54-9665e9dc35fb>, line 2)",
     "output_type": "error",
     "traceback": [
      "\u001b[1;36m  File \u001b[1;32m\"<ipython-input-54-9665e9dc35fb>\"\u001b[1;36m, line \u001b[1;32m2\u001b[0m\n\u001b[1;33m    for <target> in <object>:\u001b[0m\n\u001b[1;37m        ^\u001b[0m\n\u001b[1;31mSyntaxError\u001b[0m\u001b[1;31m:\u001b[0m invalid syntax\n"
     ]
    }
   ],
   "source": [
    "# General Format:\n",
    "for <target> in <object>:\n",
    "    <statements>\n",
    "else:\n",
    "    <statements>"
   ]
  },
  {
   "cell_type": "code",
   "execution_count": 55,
   "metadata": {},
   "outputs": [
    {
     "name": "stdout",
     "output_type": "stream",
     "text": [
      "aa\n",
      "ab\n",
      "bb\n",
      "bc\n",
      "cc\n"
     ]
    }
   ],
   "source": [
    "# For Loop\n",
    "grades = ['aa', 'ab', 'bb', 'bc', 'cc']\n",
    "\n",
    "for grade in range(len(grades)):\n",
    "    print(grades[grade])"
   ]
  },
  {
   "cell_type": "code",
   "execution_count": 56,
   "metadata": {},
   "outputs": [
    {
     "name": "stdout",
     "output_type": "stream",
     "text": [
      "[3, 5, 7, 9]\n"
     ]
    }
   ],
   "source": [
    "# Displays range of numbers from 3 to 10 with an interval of 2\n",
    "print(list(range(3,10,2)))"
   ]
  },
  {
   "cell_type": "code",
   "execution_count": 57,
   "metadata": {},
   "outputs": [
    {
     "name": "stdout",
     "output_type": "stream",
     "text": [
      "0\n",
      "1\n",
      "2\n",
      "Empty.\n"
     ]
    }
   ],
   "source": [
    "## For loop with else\n",
    "### else block would be executed whenever we exit the for loop\n",
    "digits = [0, 1, 2]\n",
    "\n",
    "for i in digits:\n",
    "    print(i)\n",
    "else:\n",
    "    print(\"Empty.\")"
   ]
  },
  {
   "cell_type": "markdown",
   "metadata": {},
   "source": [
    "#### Class Task \n",
    "1. Try to use various iterators in for loop like range, list, dictionaries and so on.\n",
    "1. (i) Using enumerators execute For loop (ii) Count the index of the for loop using count variable.Also,Compare the above codes and find out the difference between them.\n",
    "\n",
    "#### Handling Exceptions\n",
    "When a Python program executes, a user introduces conditions that cause run-time errors. As a result the program stops exceuting. As a developer, we need to anticipate these errors by knowing how to handle these exceptions in our code."
   ]
  },
  {
   "cell_type": "code",
   "execution_count": 58,
   "metadata": {},
   "outputs": [
    {
     "name": "stdout",
     "output_type": "stream",
     "text": [
      "We have 5 pounds of Gauvas\n",
      "How many ways are we dividing the guavas?7\n",
      "Each person gets 0.7142857142857143 pounds of Guava\n"
     ]
    }
   ],
   "source": [
    "# Let's take an example using try-catch Exception.\n",
    "print(\"We have 5 pounds of Gauvas\")\n",
    "number = input(\"How many ways are we dividing the guavas?\")\n",
    "number = int(number)\n",
    "\n",
    "try:\n",
    "    poundsEach = 5/number\n",
    "    print(\"Each person gets\",poundsEach,\"pounds of Guava\")\n",
    "except ZeroDivisionError:\n",
    "    print(\" You can't divide by zero. Try again\")\n",
    "\n",
    "    \n",
    "# While executing program let's enter any other number apart from 0"
   ]
  },
  {
   "cell_type": "code",
   "execution_count": 59,
   "metadata": {},
   "outputs": [
    {
     "name": "stdout",
     "output_type": "stream",
     "text": [
      "We have 5 pounds of Gauvas\n",
      "How many ways are we dividing the guavas?0\n",
      " You can't divide by zero. Try again\n"
     ]
    }
   ],
   "source": [
    "# Let's take an example using try-catch Exception.\n",
    "print(\"We have 5 pounds of Gauvas\")\n",
    "number = input(\"How many ways are we dividing the guavas?\")\n",
    "number = int(number)\n",
    "\n",
    "try:\n",
    "    poundsEach = 5/number\n",
    "    print(\"Each person gets\",poundsEach,\"pounds of Guava\")\n",
    "except ZeroDivisionError:\n",
    "    print(\" You can't divide by zero. Try again\")\n",
    "\n",
    "    \n",
    "# While executing program let's enter only 0"
   ]
  },
  {
   "cell_type": "markdown",
   "metadata": {},
   "source": [
    "Let's see what happens if the program doesn't include try-catch Exception."
   ]
  },
  {
   "cell_type": "code",
   "execution_count": 60,
   "metadata": {},
   "outputs": [
    {
     "name": "stdout",
     "output_type": "stream",
     "text": [
      "We have 5 pounds of Gauvas\n",
      "How many ways are we dividing the gauvas?0\n"
     ]
    },
    {
     "ename": "ZeroDivisionError",
     "evalue": "division by zero",
     "output_type": "error",
     "traceback": [
      "\u001b[1;31m---------------------------------------------------------------------------\u001b[0m",
      "\u001b[1;31mZeroDivisionError\u001b[0m                         Traceback (most recent call last)",
      "\u001b[1;32m<ipython-input-60-a90a495ce4c7>\u001b[0m in \u001b[0;36m<module>\u001b[1;34m\u001b[0m\n\u001b[0;32m      2\u001b[0m \u001b[0mnumber\u001b[0m \u001b[1;33m=\u001b[0m \u001b[0minput\u001b[0m\u001b[1;33m(\u001b[0m\u001b[1;34m\"How many ways are we dividing the gauvas?\"\u001b[0m\u001b[1;33m)\u001b[0m\u001b[1;33m\u001b[0m\u001b[1;33m\u001b[0m\u001b[0m\n\u001b[0;32m      3\u001b[0m \u001b[0mnumber\u001b[0m \u001b[1;33m=\u001b[0m \u001b[0mint\u001b[0m\u001b[1;33m(\u001b[0m\u001b[0mnumber\u001b[0m\u001b[1;33m)\u001b[0m\u001b[1;33m\u001b[0m\u001b[1;33m\u001b[0m\u001b[0m\n\u001b[1;32m----> 4\u001b[1;33m \u001b[0mpoundsEach\u001b[0m \u001b[1;33m=\u001b[0m \u001b[1;36m5\u001b[0m\u001b[1;33m/\u001b[0m\u001b[0mnumber\u001b[0m\u001b[1;33m\u001b[0m\u001b[1;33m\u001b[0m\u001b[0m\n\u001b[0m\u001b[0;32m      5\u001b[0m \u001b[0mprint\u001b[0m\u001b[1;33m(\u001b[0m\u001b[0mpoundsEach\u001b[0m\u001b[1;33m)\u001b[0m\u001b[1;33m\u001b[0m\u001b[1;33m\u001b[0m\u001b[0m\n\u001b[0;32m      6\u001b[0m '''\n",
      "\u001b[1;31mZeroDivisionError\u001b[0m: division by zero"
     ]
    }
   ],
   "source": [
    "print(\"We have 5 pounds of Gauvas\")\n",
    "number = input(\"How many ways are we dividing the gauvas?\")\n",
    "number = int(number)\n",
    "poundsEach = 5/number\n",
    "print(poundsEach)\n",
    "'''\n",
    "try:\n",
    "    \n",
    "    print(\"Each person gets\",poundsEach,\"pounds of Guava\")\n",
    "except ZeroDivisionError:\n",
    "    print(\" You can't divide by zero. Try again\")\n",
    "'''"
   ]
  },
  {
   "cell_type": "markdown",
   "metadata": {},
   "source": [
    "#### Python Functions\n",
    "Functions are the re-usable pieces of code which helps us to organize structure of the code. We create functions so that we can run a set of statements multiple times during in the program without repeating ourselves."
   ]
  },
  {
   "cell_type": "code",
   "execution_count": 61,
   "metadata": {},
   "outputs": [],
   "source": [
    "def sum(start, end):\n",
    "   result = 0\n",
    "   for i in range(start, end + 1):\n",
    "       result += i\n",
    "   print(result)\n",
    "   return result"
   ]
  },
  {
   "cell_type": "code",
   "execution_count": 62,
   "metadata": {},
   "outputs": [
    {
     "name": "stdout",
     "output_type": "stream",
     "text": [
      "1230\n"
     ]
    },
    {
     "data": {
      "text/plain": [
       "1230"
      ]
     },
     "execution_count": 62,
     "metadata": {},
     "output_type": "execute_result"
    }
   ],
   "source": [
    "# Accessing function\n",
    "sum(10,50)"
   ]
  },
  {
   "cell_type": "markdown",
   "metadata": {},
   "source": [
    "#### Lambda function\n",
    "Lambda functions are small functions usually not more than a line. It can have any number of arguments just like a normal function. The body of lambda functions is very small and consists of only one expression. The result of the expression is the value when the lambda is applied to an argument. Also there is no need for any return statement in lambda function."
   ]
  },
  {
   "cell_type": "code",
   "execution_count": 63,
   "metadata": {},
   "outputs": [],
   "source": [
    "# Consider a function multiply()\n",
    "def multiply(x, y):\n",
    "    return x * y"
   ]
  },
  {
   "cell_type": "code",
   "execution_count": 64,
   "metadata": {},
   "outputs": [
    {
     "data": {
      "text/plain": [
       "12"
      ]
     },
     "execution_count": 64,
     "metadata": {},
     "output_type": "execute_result"
    }
   ],
   "source": [
    "# Function mutliply using the lambda function\n",
    "(lambda x, y: x * y)(3,4)"
   ]
  },
  {
   "cell_type": "markdown",
   "metadata": {},
   "source": [
    "#### Map function\n",
    "Map functions expects a function object and any number of iterables like list, dictionary, etc. It executes the function_object for each element in the sequence and returns a list of the elements modified by the function object."
   ]
  },
  {
   "cell_type": "code",
   "execution_count": 65,
   "metadata": {},
   "outputs": [],
   "source": [
    "map_output = list(map(lambda x: x*2, [1, 2, 3, 4]))"
   ]
  },
  {
   "cell_type": "code",
   "execution_count": 66,
   "metadata": {},
   "outputs": [
    {
     "data": {
      "text/plain": [
       "[2, 4, 6, 8]"
      ]
     },
     "execution_count": 66,
     "metadata": {},
     "output_type": "execute_result"
    }
   ],
   "source": [
    "map_output"
   ]
  },
  {
   "cell_type": "markdown",
   "metadata": {},
   "source": [
    "#### Class Task \n",
    "How is list comprehension different from lambda function?\n",
    "Using def function and map function find the square root of 4 and compare the difference."
   ]
  },
  {
   "cell_type": "code",
   "execution_count": null,
   "metadata": {},
   "outputs": [],
   "source": []
  }
 ],
 "metadata": {
  "kernelspec": {
   "display_name": "Python 3",
   "language": "python",
   "name": "python3"
  },
  "language_info": {
   "codemirror_mode": {
    "name": "ipython",
    "version": 3
   },
   "file_extension": ".py",
   "mimetype": "text/x-python",
   "name": "python",
   "nbconvert_exporter": "python",
   "pygments_lexer": "ipython3",
   "version": "3.7.3"
  }
 },
 "nbformat": 4,
 "nbformat_minor": 2
}
