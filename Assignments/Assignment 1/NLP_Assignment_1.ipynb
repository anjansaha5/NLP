{
 "cells": [
  {
   "cell_type": "markdown",
   "metadata": {},
   "source": [
    "# Task 1:\n",
    "#### Print a string that displays 'NLP stands for Natural Language Processing' using the variables provided.\n",
    "Make use of string formatting or f-strings"
   ]
  },
  {
   "cell_type": "code",
   "execution_count": 1,
   "metadata": {},
   "outputs": [],
   "source": [
    "abbr = 'NLP'\n",
    "full_text = 'Natural Language Processing'"
   ]
  },
  {
   "cell_type": "code",
   "execution_count": 2,
   "metadata": {},
   "outputs": [
    {
     "name": "stdout",
     "output_type": "stream",
     "text": [
      "NLP stands for Natural Language Processing\n"
     ]
    }
   ],
   "source": [
    "print(f'{abbr} stands for {full_text}')"
   ]
  },
  {
   "cell_type": "markdown",
   "metadata": {},
   "source": [
    "# Task 2:\n",
    "#### Create a function which takes N as an argument and return a list repeating the word 'NLP' for N number of times as a string"
   ]
  },
  {
   "cell_type": "code",
   "execution_count": 3,
   "metadata": {},
   "outputs": [
    {
     "name": "stdout",
     "output_type": "stream",
     "text": [
      "['NLP', 'NLP', 'NLP', 'NLP', 'NLP', 'NLP', 'NLP', 'NLP', 'NLP', 'NLP']\n"
     ]
    }
   ],
   "source": [
    "def repeat(N):\n",
    "    return ['NLP' for i in range(N)]\n",
    "\n",
    "print(repeat(10))"
   ]
  },
  {
   "cell_type": "markdown",
   "metadata": {},
   "source": [
    "# Task 3:\n",
    "#### From the string variable provided extract Day, Month, year using indexing and print it.\n"
   ]
  },
  {
   "cell_type": "code",
   "execution_count": 4,
   "metadata": {},
   "outputs": [
    {
     "name": "stdout",
     "output_type": "stream",
     "text": [
      "Day: 04\n",
      "Month: August\n",
      "Year: 2019\n"
     ]
    }
   ],
   "source": [
    "string= \"04-August-2019\"\n",
    "day = string[:2]\n",
    "month = string[3:9]\n",
    "year = string[10:]\n",
    "print('Day:',day)\n",
    "print('Month:',month)\n",
    "print('Year:',year)"
   ]
  },
  {
   "cell_type": "markdown",
   "metadata": {},
   "source": [
    "# Task 4:\n",
    "#### Extract Supervisedlearning from the following string.# "
   ]
  },
  {
   "cell_type": "code",
   "execution_count": 5,
   "metadata": {},
   "outputs": [
    {
     "name": "stdout",
     "output_type": "stream",
     "text": [
      "Supervisedlearning\n"
     ]
    }
   ],
   "source": [
    "string = \"SSuuppeerrvviisseeddlleeaarrnniinng\"\n",
    "n = ''.join([string[i] for i in range(0, len(string), 2)])\n",
    "print(n)   "
   ]
  },
  {
   "cell_type": "markdown",
   "metadata": {},
   "source": [
    "# Task 5:\n",
    "#### Navigate to this drive link and download owlcreek.txt file and read it into a python string. Then print the length of the string."
   ]
  },
  {
   "cell_type": "code",
   "execution_count": 6,
   "metadata": {},
   "outputs": [
    {
     "name": "stdout",
     "output_type": "stream",
     "text": [
      "21344\n"
     ]
    }
   ],
   "source": [
    "with open('owlcreek.txt') as f:\n",
    "    data = f.read()\n",
    "print(len(data))"
   ]
  },
  {
   "cell_type": "markdown",
   "metadata": {},
   "source": [
    "# Task 6:\n",
    "#### In the text after every full stop (.) there are two trailling spaces, reduce it to single trailling space and save the changed string to a new file \"new_owlcreek.txt\""
   ]
  },
  {
   "cell_type": "code",
   "execution_count": 7,
   "metadata": {},
   "outputs": [
    {
     "name": "stdout",
     "output_type": "stream",
     "text": [
      "\n",
      "A man stood upon a railroad bridge in northern Alabama, looking down\n",
      "into the swift water twenty feet below.  The man's hands were be\n",
      "\n",
      "\n",
      "A man stood upon a railroad bridge in northern Alabama, looking down\n",
      "into the swift water twenty feet below. The man's hands were beh\n"
     ]
    }
   ],
   "source": [
    "with open('owlcreek.txt') as f:\n",
    "    data = f.read()\n",
    "    \n",
    "new_data = data.replace('.  ','. ')\n",
    "\n",
    "with open('new_owlcreek.txt','w') as f:\n",
    "    f.write(new_data)\n",
    "\n",
    "print(data[56:190])\n",
    "print()\n",
    "print(new_data[56:190])"
   ]
  },
  {
   "cell_type": "markdown",
   "metadata": {},
   "source": [
    "# Task 7:\n",
    "#### The text is divided into three parts (I, II, III). In the text you can see a 'I' character before starting of first part and similarly 'II' and 'III' for 2nd and 3rd part.\n",
    "\n",
    "#### Create three strings dividing these three parts as (part_1, part_2, part_3) and print their character length in the format shown below."
   ]
  },
  {
   "cell_type": "code",
   "execution_count": 8,
   "metadata": {},
   "outputs": [
    {
     "name": "stdout",
     "output_type": "stream",
     "text": [
      "Length of part_1:  6054\n",
      "Length of part_2:  2760\n",
      "Length of part_3:  12474\n"
     ]
    }
   ],
   "source": [
    "with open('owlcreek.txt') as f:\n",
    "    data = f.read()\n",
    "\n",
    "# Getting the index of I,II and III and storing in the respective variables.\n",
    "index_I = data.index('I\\n')\n",
    "index_II = data.index('II\\n')\n",
    "index_III = data.index('III\\n')\n",
    "\n",
    "# Storing the content of data using slicing.\n",
    "part_1 = data[index_I : index_II - 1]\n",
    "part_2 = data[index_II: index_III -1]\n",
    "part_3 = data[index_III : ]\n",
    "\n",
    "# Printing the length of part1, part2 and part3\n",
    "print('Length of part_1: ',len(part_1))\n",
    "print('Length of part_2: ',len(part_2))\n",
    "print('Length of part_3: ',len(part_3))"
   ]
  },
  {
   "cell_type": "markdown",
   "metadata": {},
   "source": [
    "# Task 8:\n",
    "#### Extract all the snetences within quotes(\") in the part_2 that you created in the last task and save it to a variable quotes_part_2\n",
    "\n",
    "#### Eg. \"They will not do that again,\"\n",
    "\n",
    "Hint: Make use of Regular Expressions"
   ]
  },
  {
   "cell_type": "code",
   "execution_count": 9,
   "metadata": {},
   "outputs": [
    {
     "name": "stdout",
     "output_type": "stream",
     "text": [
      "\"The Yanks are repairing the railroads,\"\n",
      "\n",
      "\"and are\n",
      "getting ready for another advance.  They have reached the Owl Creek\n",
      "bridge, put it in order and built a stockade on the north bank.  The\n",
      "commandant has issued an order, which is posted everywhere, declaring\n",
      "that any civilian caught interfering with the railroad, its bridges,\n",
      "tunnels, or trains will be summarily hanged.  I saw the order.\"\n",
      "\n",
      "\"How far is it to the Owl Creek bridge?\"\n",
      "\n",
      "\"About thirty miles.\"\n",
      "\n",
      "\"Is there no force on this side of the creek?\"\n",
      "\n",
      "\"Only a picket post half a mile out, on the railroad, and a single\n",
      "sentinel at this end of the bridge.\"\n",
      "\n",
      "\"Suppose a man--a civilian and student of hanging--should elude the\n",
      "picket post and perhaps get the better of the sentinel,\"\n",
      "\n",
      "\"what could he accomplish?\"\n",
      "\n",
      "\"I was there a month ago,\"\n",
      "\n",
      "\"I\n",
      "observed that the flood of last winter had lodged a great quantity of\n",
      "driftwood against the wooden pier at this end of the bridge.  It is\n",
      "now dry and would burn like tinder.\"\n",
      "\n"
     ]
    }
   ],
   "source": [
    "import re\n",
    "\n",
    "quotes_part_2  = re.findall('\"[^\"]*\"', part_2)\n",
    "\n",
    "# Printing the quotes\n",
    "for i in quotes_part_2:\n",
    "    print(i)\n",
    "    print()"
   ]
  },
  {
   "cell_type": "markdown",
   "metadata": {},
   "source": [
    "# Task 9:\n",
    "#### Convert part_1 string to lowercase using string function"
   ]
  },
  {
   "cell_type": "code",
   "execution_count": 10,
   "metadata": {},
   "outputs": [
    {
     "name": "stdout",
     "output_type": "stream",
     "text": [
      "i\n",
      "\n",
      "a man stood upon a railroad bridge in northern alabama, looking down\n",
      "into the swift water twenty feet below.  the man's hands were behind\n",
      "his back, the wrists bound with a cord.  a rope closely enc\n"
     ]
    }
   ],
   "source": [
    "part_1_lower = part_1.lower()\n",
    "print(part_1_lower[:200])"
   ]
  },
  {
   "cell_type": "markdown",
   "metadata": {},
   "source": [
    "# Task 10:\n",
    "#### Remove all the punctuation marks from the words\n",
    "\n",
    "Hint: Make use of string.punctuation"
   ]
  },
  {
   "cell_type": "code",
   "execution_count": 11,
   "metadata": {},
   "outputs": [],
   "source": [
    "from string import punctuation\n",
    "\n",
    "new_data = ''\n",
    "for i in data:\n",
    "    if i not in punctuation:\n",
    "        new_data = new_data + i        "
   ]
  },
  {
   "cell_type": "code",
   "execution_count": 12,
   "metadata": {},
   "outputs": [
    {
     "name": "stdout",
     "output_type": "stream",
     "text": [
      "AN OCCURRENCE AT OWL CREEK BRIDGE\n",
      "\n",
      "by Ambrose Bierce\n",
      "\n",
      "I\n",
      "\n",
      "A man stood upon a railroad bridge in northern Alabama looking down\n",
      "into the swift water twenty feet below  The mans hands were behind\n",
      "his back\n"
     ]
    }
   ],
   "source": [
    "print(new_data[:200])"
   ]
  },
  {
   "cell_type": "markdown",
   "metadata": {},
   "source": [
    "# Task 11:\n",
    "#### Split the lowercase part_1 string into words, save it to a variable called words_list and then print the number of words or length of the list."
   ]
  },
  {
   "cell_type": "code",
   "execution_count": 14,
   "metadata": {},
   "outputs": [
    {
     "name": "stdout",
     "output_type": "stream",
     "text": [
      "Number of words:  1058\n"
     ]
    }
   ],
   "source": [
    "words_list = part_1_lower.split()\n",
    "print('Number of words: ',len(words_list))"
   ]
  },
  {
   "cell_type": "markdown",
   "metadata": {},
   "source": [
    "# Task 12\n",
    "#### Download this Business_Proposal.pdf file from this link and put it in your current working directory.\n",
    "\n",
    "#### Now read the pdf file. Check the second page it has name of the authors, From this page extract the Name , position and Email Id and put it into a DataFrame contacts shown below"
   ]
  },
  {
   "cell_type": "code",
   "execution_count": 15,
   "metadata": {},
   "outputs": [
    {
     "name": "stdout",
     "output_type": "stream",
     "text": [
      "Requirement already satisfied: PyPDF2 in c:\\programdata\\anaconda3\\lib\\site-packages (1.26.0)\n"
     ]
    }
   ],
   "source": [
    "!pip install PyPDF2"
   ]
  },
  {
   "cell_type": "code",
   "execution_count": 73,
   "metadata": {},
   "outputs": [
    {
     "name": "stdout",
     "output_type": "stream",
     "text": [
      "AUTHORS:\n",
      " \n",
      "Amy Baker, Finance Chair, x345, abaker@ourcompany.com\n",
      " \n",
      "Chris Donaldson, Accounting Dir., x621, cdonaldson@ourcompany.com\n",
      " \n",
      "Erin Freeman, Sr. VP, x879, efreeman@ourcompany.com\n",
      " \n",
      "\n"
     ]
    }
   ],
   "source": [
    "import PyPDF2\n",
    "\n",
    "pdf_file_obj = open('Business_Proposal.pdf', 'rb') # Pdf File Object\n",
    "pdf_reader_obj = PyPDF2.PdfFileReader(pdf_file_obj) # Pdf Reader Object\n",
    "\n",
    "page2_obj = pdf_reader_obj.getPage(1) # Creating a object for page 1\n",
    "page2_data = page2_obj.extractText()\n",
    "pdf_file_obj.close() # Closing the Pdf File Object\n",
    "print(page2_data) # Printing contents of page 2\n"
   ]
  },
  {
   "cell_type": "code",
   "execution_count": 76,
   "metadata": {},
   "outputs": [
    {
     "data": {
      "text/plain": [
       "''"
      ]
     },
     "execution_count": 76,
     "metadata": {},
     "output_type": "execute_result"
    }
   ],
   "source": [
    "contacts_list = page2_data.split('\\n \\n')\n",
    "contacts_list.pop(0) # Removing the first element.\n",
    "contacts_list.pop() # Removing the last element."
   ]
  },
  {
   "cell_type": "code",
   "execution_count": 77,
   "metadata": {},
   "outputs": [
    {
     "data": {
      "text/plain": [
       "['Amy Baker, Finance Chair, x345, abaker@ourcompany.com',\n",
       " 'Chris Donaldson, Accounting Dir., x621, cdonaldson@ourcompany.com',\n",
       " 'Erin Freeman, Sr. VP, x879, efreeman@ourcompany.com']"
      ]
     },
     "execution_count": 77,
     "metadata": {},
     "output_type": "execute_result"
    }
   ],
   "source": [
    "for i in contacts_list:\n",
    "    "
   ]
  },
  {
   "cell_type": "code",
   "execution_count": null,
   "metadata": {},
   "outputs": [],
   "source": []
  }
 ],
 "metadata": {
  "kernelspec": {
   "display_name": "Python 3",
   "language": "python",
   "name": "python3"
  },
  "language_info": {
   "codemirror_mode": {
    "name": "ipython",
    "version": 3
   },
   "file_extension": ".py",
   "mimetype": "text/x-python",
   "name": "python",
   "nbconvert_exporter": "python",
   "pygments_lexer": "ipython3",
   "version": "3.7.3"
  }
 },
 "nbformat": 4,
 "nbformat_minor": 2
}
