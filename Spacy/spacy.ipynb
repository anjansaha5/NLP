{
 "cells": [
  {
   "cell_type": "code",
   "execution_count": null,
   "metadata": {},
   "outputs": [],
   "source": [
    "#!pip install -U spacy"
   ]
  },
  {
   "cell_type": "code",
   "execution_count": null,
   "metadata": {},
   "outputs": [],
   "source": [
    "#!python -m spacy download en"
   ]
  },
  {
   "cell_type": "code",
   "execution_count": null,
   "metadata": {},
   "outputs": [],
   "source": [
    "#!python -m spacy download en_core_web_sm"
   ]
  },
  {
   "cell_type": "code",
   "execution_count": null,
   "metadata": {},
   "outputs": [],
   "source": [
    "#!python -m spacy download en_core_web_md"
   ]
  },
  {
   "cell_type": "code",
   "execution_count": 2,
   "metadata": {},
   "outputs": [],
   "source": [
    "#!python -m spacy download en_core_web_lg"
   ]
  },
  {
   "cell_type": "code",
   "execution_count": 8,
   "metadata": {},
   "outputs": [],
   "source": [
    "with open('Tripadvisor_hotelreviews.txt', 'r', encoding = 'utf-8') as d:\n",
    "    reviews = d.read()"
   ]
  },
  {
   "cell_type": "code",
   "execution_count": 5,
   "metadata": {},
   "outputs": [],
   "source": [
    "# Import spacy and load the language library\n",
    "import spacy\n",
    "nlp = spacy.load('en_core_web_sm')"
   ]
  },
  {
   "cell_type": "code",
   "execution_count": 9,
   "metadata": {},
   "outputs": [],
   "source": [
    "# Create a doc object\n",
    "doc = nlp(reviews)"
   ]
  },
  {
   "cell_type": "code",
   "execution_count": 10,
   "metadata": {},
   "outputs": [
    {
     "data": {
      "text/plain": [
       "[('tagger', <spacy.pipeline.pipes.Tagger at 0x999ee10>),\n",
       " ('parser', <spacy.pipeline.pipes.DependencyParser at 0xb685888>),\n",
       " ('ner', <spacy.pipeline.pipes.EntityRecognizer at 0xb6858e8>)]"
      ]
     },
     "execution_count": 10,
     "metadata": {},
     "output_type": "execute_result"
    }
   ],
   "source": [
    "nlp.pipeline"
   ]
  },
  {
   "cell_type": "code",
   "execution_count": 11,
   "metadata": {},
   "outputs": [
    {
     "data": {
      "text/plain": [
       "'Nice place Better than some reviews give it credit'"
      ]
     },
     "execution_count": 11,
     "metadata": {},
     "output_type": "execute_result"
    }
   ],
   "source": [
    "doc.text[:50]"
   ]
  },
  {
   "cell_type": "code",
   "execution_count": 13,
   "metadata": {},
   "outputs": [
    {
     "data": {
      "text/plain": [
       "[Nice place Better than some reviews give it credit for.,\n",
       " Overall, the rooms were a bit small but nice.,\n",
       " Everything was clean, the view was wonderful and it is very well located,\n",
       " (the Prudential Center makes shopping and eating easy and the T is nearby for jaunts out and about the city).,\n",
       " Overall, it was a good experience and the staff was quite friendly. ]"
      ]
     },
     "execution_count": 13,
     "metadata": {},
     "output_type": "execute_result"
    }
   ],
   "source": [
    "list(doc.sents)[:5]"
   ]
  },
  {
   "cell_type": "code",
   "execution_count": 14,
   "metadata": {},
   "outputs": [
    {
     "data": {
      "text/plain": [
       "4051"
      ]
     },
     "execution_count": 14,
     "metadata": {},
     "output_type": "execute_result"
    }
   ],
   "source": [
    "len(list(doc.sents))"
   ]
  },
  {
   "cell_type": "code",
   "execution_count": 16,
   "metadata": {},
   "outputs": [
    {
     "data": {
      "text/plain": [
       "[Nice, place, Better, than, some]"
      ]
     },
     "execution_count": 16,
     "metadata": {},
     "output_type": "execute_result"
    }
   ],
   "source": [
    "list(doc)[:5]"
   ]
  },
  {
   "cell_type": "code",
   "execution_count": 17,
   "metadata": {},
   "outputs": [
    {
     "data": {
      "text/plain": [
       "spacy.tokens.doc.Doc"
      ]
     },
     "execution_count": 17,
     "metadata": {},
     "output_type": "execute_result"
    }
   ],
   "source": [
    "type(doc)"
   ]
  },
  {
   "cell_type": "code",
   "execution_count": 18,
   "metadata": {},
   "outputs": [
    {
     "data": {
      "text/plain": [
       "61504"
      ]
     },
     "execution_count": 18,
     "metadata": {},
     "output_type": "execute_result"
    }
   ],
   "source": [
    "len(doc)"
   ]
  },
  {
   "cell_type": "code",
   "execution_count": 20,
   "metadata": {},
   "outputs": [
    {
     "name": "stdout",
     "output_type": "stream",
     "text": [
      "Nice\n",
      "place\n",
      "Better\n",
      "than\n",
      "some\n"
     ]
    }
   ],
   "source": [
    "for i in doc[:5]:\n",
    "    print(i)\n",
    "    "
   ]
  },
  {
   "cell_type": "code",
   "execution_count": 28,
   "metadata": {},
   "outputs": [
    {
     "name": "stdout",
     "output_type": "stream",
     "text": [
      "{'whereupon', 'one', 'put', 'yourself', 'anyone', 'on', 'not', 'ever', 'down', 'latterly', 'becoming', 'hereby', 'where', 'could', 'should', 'thereupon', 'out', 'serious', 'behind', 'meanwhile', 'keep', 'six', 'until', 'somewhere', 'a', 'whoever', 'eleven', 'she', 'such', 'bottom', 'here', 'however', 'doing', 'an', '’ll', 'between', \"'s\", 'whereafter', 'whose', 'yourselves', 'after', 'n‘t', 'becomes', 'nowhere', 'mine', 'themselves', 'elsewhere', 'perhaps', 'further', 'did', 'although', 'along', 'make', 'using', 'thence', 'ourselves', 'are', 'many', 'take', 'thru', 'top', 'what', 'go', 'among', 'through', 'never', 'whatever', 'few', 'itself', 'than', 'namely', 'may', 'with', 'no', 'ours', \"'d\", 'its', 'seem', 'anything', 'none', 'upon', 'every', 'show', 'former', 'whole', 'next', '‘s', 'toward', 'became', 'throughout', 'seems', 'via', 'more', 'very', 'must', 'herself', 'the', 'whether', 'just', 'various', 'towards', 'only', 'besides', 'yet', '’s', 'therefore', 'at', 'due', 'were', 'everything', 'often', 'most', 'by', 'ca', 'move', 'noone', 'when', 'almost', 'well', 'same', 'then', 'you', 'made', 'while', 'sixty', 'there', '‘re', 'used', 'another', 'whom', 'because', 'whenever', 'enough', 'hers', 'beside', 'name', 'how', 'someone', 'below', 'twelve', 'be', 'will', 'and', 'whither', 'himself', 'also', 'whereas', \"'re\", 'he', 'other', 'front', 'indeed', 'already', 'others', 'nor', 'those', 'hereupon', 'myself', 'anyway', 'forty', 'beforehand', 'them', 'somehow', 'before', 'therein', 'yours', 'has', 'still', 'eight', 'sometimes', 'hereafter', 'nobody', 'both', 'part', 'own', 'five', 'beyond', 'his', 'say', 'or', 'have', 'me', 'third', \"n't\", 'that', 'last', 'fifteen', 'nine', 'once', 'is', 'become', 'either', 'hence', '‘ll', 'per', 'formerly', 'does', 'it', 'neither', 'each', 'four', 'been', 'up', 'which', 'they', 'several', 'any', 'your', 'back', 'two', 'cannot', 'over', 'our', 'onto', '’m', 'much', 'if', 'across', 'else', 'ten', 'together', 'can', 'seemed', 'wherein', 'seeming', 'sometime', 'alone', 'rather', 'less', 'into', 'as', 're', 'us', 'all', 'i', 'give', 'get', 'thereafter', 'something', 'anyhow', 'thus', 'but', 'now', '’re', 'three', 'fifty', 'to', 'against', 'for', 'him', 'these', 'again', 'twenty', 'hundred', 'full', 'empty', 'thereby', 'since', 'always', 'wherever', 'would', 'off', 'had', 'we', '‘d', 'except', 'quite', 'am', 'whence', 'latter', 'nothing', 'about', 'under', \"'ll\", 'too', 'regarding', 'this', 'was', 'side', '’d', 'amount', 'nevertheless', 'my', 'everyone', 'even', 'her', 'n’t', 'some', 'moreover', 'please', '’ve', 'call', 'done', 'first', 'otherwise', 'who', 'during', \"'m\", 'everywhere', 'least', 'anywhere', 'of', \"'ve\", 'in', 'might', 'within', 'without', 'herein', '‘m', 'afterwards', 'see', 'above', 'their', 'unless', 'from', 'do', 'why', 'being', 'so', 'amongst', 'mostly', 'though', 'really', 'whereby', 'around', '‘ve'}\n"
     ]
    }
   ],
   "source": [
    "spacy_stopWords = nlp.Defaults.stop_words\n",
    "print(spacy_stopWords)"
   ]
  },
  {
   "cell_type": "code",
   "execution_count": 31,
   "metadata": {},
   "outputs": [
    {
     "name": "stdout",
     "output_type": "stream",
     "text": [
      "{'needn', 'to', 'against', 'both', \"you'll\", \"isn't\", 'yourself', 'own', 'on', 'more', 'his', 'not', 'down', 'very', \"weren't\", 'or', 'have', 'the', 'herself', \"didn't\", 'll', 'me', 'for', 'him', 'these', 'where', 'just', 'should', 'again', 'only', 'mightn', 'm', \"couldn't\", 'out', 'won', 'that', 'shan', 'off', 'once', 'had', 'at', 'is', \"don't\", 'we', 's', 'were', \"hasn't\", 'until', 've', 'most', 'by', 'a', 'aren', 'doesn', 'am', 'when', 'does', \"you'd\", 'it', \"wasn't\", 'same', 'about', \"hadn't\", 'then', \"mustn't\", 'she', 'you', 'such', 'while', 'under', 'y', 'there', 'mustn', \"shan't\", 'hasn', \"mightn't\", 'hadn', 'too', 'this', 'd', 'was', 'here', 'each', 'whom', 'doing', 'an', \"she's\", 'been', 'up', 'which', 'they', 'between', 'because', \"doesn't\", 'hers', 'my', 'any', 'yourselves', 'her', 'your', 'some', 'after', 'how', 'ain', 'themselves', \"should've\", 'below', 'over', \"haven't\", 'further', 'our', 'did', 'be', 'will', 'who', 'and', 'isn', 'o', 'ourselves', \"you've\", 'are', 'if', 'himself', 'during', 'what', 'can', \"that'll\", 'of', 'haven', 'he', 'wouldn', 'other', \"shouldn't\", 'in', 'having', 'through', 'into', 'ma', \"aren't\", 'as', 're', 'nor', 'those', 'few', \"won't\", 'itself', 'i', 'their', 'theirs', 'above', \"you're\", 'all', 'than', 'wasn', 'myself', 'from', 'do', 'with', \"it's\", 'no', 'ours', 'shouldn', 'couldn', 'them', 'its', 'why', 'before', 't', 'being', 'but', 'so', 'yours', 'now', \"wouldn't\", 'has', \"needn't\", 'didn', 'weren', 'don'}\n"
     ]
    }
   ],
   "source": [
    "import nltk\n",
    "from nltk.corpus import stopwords\n",
    "nltk_stopwords = set(stopwords.words('english'))\n",
    "print(nltk_stopwords)"
   ]
  },
  {
   "cell_type": "code",
   "execution_count": 32,
   "metadata": {},
   "outputs": [
    {
     "name": "stdout",
     "output_type": "stream",
     "text": [
      "{'to', 'against', 'both', 'own', 'yourself', 'on', 'more', 'his', 'not', 'down', 'very', 'or', 'have', 'the', 'herself', 'me', 'for', 'him', 'these', 'where', 'just', 'should', 'again', 'only', 'out', 'that', 'off', 'once', 'had', 'at', 'is', 'we', 'were', 'until', 'most', 'by', 'a', 'am', 'when', 'does', 'it', 'same', 'about', 'then', 'she', 'you', 'such', 'while', 'under', 'there', 'too', 'this', 'was', 'here', 'each', 'whom', 'doing', 'an', 'been', 'up', 'which', 'they', 'between', 'because', 'hers', 'my', 'any', 'yourselves', 'her', 'your', 'some', 'after', 'how', 'themselves', 'below', 'over', 'further', 'our', 'did', 'be', 'will', 'who', 'and', 'ourselves', 'are', 'if', 'himself', 'during', 'what', 'can', 'of', 'he', 'other', 'in', 'through', 'into', 'as', 're', 'nor', 'those', 'few', 'itself', 'i', 'their', 'above', 'all', 'than', 'myself', 'from', 'do', 'with', 'no', 'ours', 'them', 'its', 'why', 'before', 'being', 'but', 'so', 'yours', 'now', 'has'}\n"
     ]
    }
   ],
   "source": [
    "print(spacy_stopWords.intersection(nltk_stopwords))"
   ]
  },
  {
   "cell_type": "code",
   "execution_count": 33,
   "metadata": {},
   "outputs": [
    {
     "data": {
      "text/plain": [
       "326"
      ]
     },
     "execution_count": 33,
     "metadata": {},
     "output_type": "execute_result"
    }
   ],
   "source": [
    "len(spacy_stopWords)"
   ]
  },
  {
   "cell_type": "code",
   "execution_count": 34,
   "metadata": {},
   "outputs": [
    {
     "data": {
      "text/plain": [
       "179"
      ]
     },
     "execution_count": 34,
     "metadata": {},
     "output_type": "execute_result"
    }
   ],
   "source": [
    "len(nltk_stopwords)"
   ]
  },
  {
   "cell_type": "code",
   "execution_count": 35,
   "metadata": {},
   "outputs": [],
   "source": [
    "spacy_stopWords.add('btw')"
   ]
  },
  {
   "cell_type": "code",
   "execution_count": 36,
   "metadata": {},
   "outputs": [
    {
     "data": {
      "text/plain": [
       "True"
      ]
     },
     "execution_count": 36,
     "metadata": {},
     "output_type": "execute_result"
    }
   ],
   "source": [
    "nlp.vocab['btw'].is_stop"
   ]
  },
  {
   "cell_type": "code",
   "execution_count": 37,
   "metadata": {},
   "outputs": [
    {
     "data": {
      "text/plain": [
       "5800"
      ]
     },
     "execution_count": 37,
     "metadata": {},
     "output_type": "execute_result"
    }
   ],
   "source": [
    "len(nlp.vocab)"
   ]
  },
  {
   "cell_type": "code",
   "execution_count": 38,
   "metadata": {},
   "outputs": [
    {
     "name": "stdout",
     "output_type": "stream",
     "text": [
      "than SCONJ IN conjunction, subordinating or preposition\n"
     ]
    }
   ],
   "source": [
    "# Print the fifth word and associated tags:\n",
    "print(doc[3].text, doc[3].pos_, doc[3].tag_, spacy.explain(doc[3].tag_))"
   ]
  },
  {
   "cell_type": "code",
   "execution_count": 39,
   "metadata": {},
   "outputs": [
    {
     "name": "stdout",
     "output_type": "stream",
     "text": [
      "Nice       ADJ      JJ     adjective\n",
      "place      NOUN     NN     noun, singular or mass\n",
      "Better     ADJ      JJR    adjective, comparative\n",
      "than       SCONJ    IN     conjunction, subordinating or preposition\n",
      "some       DET      DT     determiner\n",
      "reviews    NOUN     NNS    noun, plural\n",
      "give       VERB     VBP    verb, non-3rd person singular present\n",
      "it         PRON     PRP    pronoun, personal\n",
      "credit     NOUN     NN     noun, singular or mass\n",
      "for        ADP      IN     conjunction, subordinating or preposition\n",
      ".          PUNCT    .      punctuation mark, sentence closer\n",
      "Overall    ADV      RB     adverb\n",
      ",          PUNCT    ,      punctuation mark, comma\n",
      "the        DET      DT     determiner\n",
      "rooms      NOUN     NNS    noun, plural\n",
      "were       AUX      VBD    verb, past tense\n",
      "a          DET      DT     determiner\n",
      "bit        NOUN     NN     noun, singular or mass\n",
      "small      ADJ      JJ     adjective\n",
      "but        CCONJ    CC     conjunction, coordinating\n"
     ]
    }
   ],
   "source": [
    "for token in doc[:20]:\n",
    "    print(f'{token.text:{10}} {token.pos_:{8}} {token.tag_:{6}} {spacy.explain(token.tag_)}')"
   ]
  },
  {
   "cell_type": "code",
   "execution_count": null,
   "metadata": {},
   "outputs": [],
   "source": []
  }
 ],
 "metadata": {
  "kernelspec": {
   "display_name": "Python 3",
   "language": "python",
   "name": "python3"
  },
  "language_info": {
   "codemirror_mode": {
    "name": "ipython",
    "version": 3
   },
   "file_extension": ".py",
   "mimetype": "text/x-python",
   "name": "python",
   "nbconvert_exporter": "python",
   "pygments_lexer": "ipython3",
   "version": "3.7.3"
  }
 },
 "nbformat": 4,
 "nbformat_minor": 2
}
