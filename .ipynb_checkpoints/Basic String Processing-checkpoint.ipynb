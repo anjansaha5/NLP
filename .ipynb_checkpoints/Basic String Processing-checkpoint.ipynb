{
 "cells": [
  {
   "cell_type": "markdown",
   "metadata": {},
   "source": [
    "# Basic Text Processing\n",
    "### In this tutorial we will look into basics of raw string processing\n",
    "## Creating String in python"
   ]
  },
  {
   "cell_type": "code",
   "execution_count": 1,
   "metadata": {},
   "outputs": [
    {
     "name": "stdout",
     "output_type": "stream",
     "text": [
      "Hello learners\n"
     ]
    }
   ],
   "source": [
    "# Creating a String  \n",
    "# with single Quotes \n",
    "my_string = 'Hello learners'\n",
    "print(my_string)"
   ]
  },
  {
   "cell_type": "code",
   "execution_count": 2,
   "metadata": {},
   "outputs": [
    {
     "name": "stdout",
     "output_type": "stream",
     "text": [
      "Hello learners\n"
     ]
    }
   ],
   "source": [
    "# Creating a String \n",
    "# with double Quotes \n",
    "my_string = \"Hello learners\"\n",
    "print(my_string)"
   ]
  },
  {
   "cell_type": "code",
   "execution_count": 3,
   "metadata": {},
   "outputs": [
    {
     "name": "stdout",
     "output_type": "stream",
     "text": [
      "Hello learners\n"
     ]
    }
   ],
   "source": [
    "# Creating a String \n",
    "# with triple Quotes \n",
    "my_string = '''Hello learners'''\n",
    "print(my_string)"
   ]
  },
  {
   "cell_type": "code",
   "execution_count": 4,
   "metadata": {},
   "outputs": [
    {
     "name": "stdout",
     "output_type": "stream",
     "text": [
      "Hello, welcome to\n",
      "Supervised Learning\n"
     ]
    }
   ],
   "source": [
    "# Creating String with triple \n",
    "# Quotes allows multiple lines \n",
    "my_string = \"\"\"Hello, welcome to\n",
    "Supervised Learning\"\"\"\n",
    "print(my_string)"
   ]
  },
  {
   "cell_type": "code",
   "execution_count": 5,
   "metadata": {},
   "outputs": [
    {
     "name": "stdout",
     "output_type": "stream",
     "text": [
      "Hello\n",
      "World\n"
     ]
    }
   ],
   "source": [
    "print('Hello\\nWorld')"
   ]
  },
  {
   "cell_type": "code",
   "execution_count": 6,
   "metadata": {},
   "outputs": [
    {
     "name": "stdout",
     "output_type": "stream",
     "text": [
      "Hello\\nWorld\n"
     ]
    }
   ],
   "source": [
    "# Raw String to ignore escape sequence\n",
    "# Adding r before a string makes it raw, so it is printing \\n as it is and not rendering it to newline character.\n",
    "print(r'Hello\\nWorld')"
   ]
  },
  {
   "cell_type": "markdown",
   "metadata": {},
   "source": [
    "### Accessing characters in a string and slicing it\n",
    "__Indexing in python starts with 0 and for backward indexing it starts with -1__"
   ]
  },
  {
   "cell_type": "code",
   "execution_count": 7,
   "metadata": {},
   "outputs": [
    {
     "name": "stdout",
     "output_type": "stream",
     "text": [
      "string =  SupervisedLearning\n"
     ]
    }
   ],
   "source": [
    "string = 'SupervisedLearning'\n",
    "print('string = ', string)"
   ]
  },
  {
   "cell_type": "code",
   "execution_count": 8,
   "metadata": {},
   "outputs": [
    {
     "name": "stdout",
     "output_type": "stream",
     "text": [
      "string[0] =  S\n"
     ]
    }
   ],
   "source": [
    "#first character\n",
    "print('string[0] = ', string[0])"
   ]
  },
  {
   "cell_type": "code",
   "execution_count": 9,
   "metadata": {},
   "outputs": [
    {
     "name": "stdout",
     "output_type": "stream",
     "text": [
      "string[-1] =  g\n"
     ]
    }
   ],
   "source": [
    "#last character\n",
    "print('string[-1] = ', string[-1])"
   ]
  },
  {
   "cell_type": "code",
   "execution_count": 10,
   "metadata": {},
   "outputs": [
    {
     "name": "stdout",
     "output_type": "stream",
     "text": [
      "string[-2] =  n\n"
     ]
    }
   ],
   "source": [
    "#Second last character\n",
    "print('string[-2] = ', string[-2])"
   ]
  },
  {
   "cell_type": "code",
   "execution_count": 11,
   "metadata": {},
   "outputs": [
    {
     "name": "stdout",
     "output_type": "stream",
     "text": [
      "string[1:5] =  uper\n"
     ]
    }
   ],
   "source": [
    "#slicing 2nd to 5th character\n",
    "print('string[1:5] = ', string[1:5])"
   ]
  },
  {
   "cell_type": "code",
   "execution_count": 12,
   "metadata": {},
   "outputs": [
    {
     "name": "stdout",
     "output_type": "stream",
     "text": [
      "string[5:-2] =  visedLearni\n"
     ]
    }
   ],
   "source": [
    "#slicing 6th to 2nd last character\n",
    "print('string[5:-2] = ', string[5:-2])"
   ]
  },
  {
   "cell_type": "code",
   "execution_count": 13,
   "metadata": {},
   "outputs": [
    {
     "name": "stdout",
     "output_type": "stream",
     "text": [
      "string[5:-2] =  SprieLann\n"
     ]
    }
   ],
   "source": [
    "#getting all the string characters skipping the every 2nd \n",
    "print('string[5:-2] = ', string[0:len(string):2])"
   ]
  },
  {
   "cell_type": "markdown",
   "metadata": {},
   "source": [
    "## Deleting a String"
   ]
  },
  {
   "cell_type": "code",
   "execution_count": 14,
   "metadata": {},
   "outputs": [],
   "source": [
    "del string"
   ]
  },
  {
   "cell_type": "markdown",
   "metadata": {},
   "source": [
    "##  Concatenation of Two or More Strings"
   ]
  },
  {
   "cell_type": "code",
   "execution_count": 15,
   "metadata": {},
   "outputs": [],
   "source": [
    "str1 = 'Hello'\n",
    "str2 ='Learners!'"
   ]
  },
  {
   "cell_type": "code",
   "execution_count": 16,
   "metadata": {},
   "outputs": [
    {
     "name": "stdout",
     "output_type": "stream",
     "text": [
      "str1 + str2 =  Hello Learners!\n"
     ]
    }
   ],
   "source": [
    "# using +\n",
    "print('str1 + str2 = ', str1 +\" \"+ str2)"
   ]
  },
  {
   "cell_type": "code",
   "execution_count": 17,
   "metadata": {},
   "outputs": [
    {
     "name": "stdout",
     "output_type": "stream",
     "text": [
      "str1 * 3 = Hello Hello Hello \n"
     ]
    }
   ],
   "source": [
    "# using *\n",
    "print('str1 * 3 =', (str1 +\" \")  * 3)"
   ]
  },
  {
   "cell_type": "code",
   "execution_count": 18,
   "metadata": {},
   "outputs": [
    {
     "data": {
      "text/plain": [
       "'Hello Learners!'"
      ]
     },
     "execution_count": 18,
     "metadata": {},
     "output_type": "execute_result"
    }
   ],
   "source": [
    "# using .join\n",
    "\" \".join([str1, str2])"
   ]
  },
  {
   "cell_type": "markdown",
   "metadata": {},
   "source": [
    "## String Membership Test"
   ]
  },
  {
   "cell_type": "code",
   "execution_count": 19,
   "metadata": {},
   "outputs": [
    {
     "data": {
      "text/plain": [
       "True"
      ]
     },
     "execution_count": 19,
     "metadata": {},
     "output_type": "execute_result"
    }
   ],
   "source": [
    "'N' in 'NLP'"
   ]
  },
  {
   "cell_type": "code",
   "execution_count": 20,
   "metadata": {},
   "outputs": [
    {
     "data": {
      "text/plain": [
       "False"
      ]
     },
     "execution_count": 20,
     "metadata": {},
     "output_type": "execute_result"
    }
   ],
   "source": [
    "'Y' in 'NLP'"
   ]
  },
  {
   "cell_type": "code",
   "execution_count": 21,
   "metadata": {},
   "outputs": [
    {
     "data": {
      "text/plain": [
       "True"
      ]
     },
     "execution_count": 21,
     "metadata": {},
     "output_type": "execute_result"
    }
   ],
   "source": [
    "'NL' in 'NLP'"
   ]
  },
  {
   "cell_type": "markdown",
   "metadata": {},
   "source": [
    "## Formatting of Strings"
   ]
  },
  {
   "cell_type": "code",
   "execution_count": 22,
   "metadata": {},
   "outputs": [
    {
     "name": "stdout",
     "output_type": "stream",
     "text": [
      "Print String in default order: \n",
      "Language Natural Processing\n"
     ]
    }
   ],
   "source": [
    "# Default order \n",
    "String = \"{} {} {}\".format('Language', 'Natural', 'Processing') \n",
    "print(\"Print String in default order: \") \n",
    "print(String) "
   ]
  },
  {
   "cell_type": "code",
   "execution_count": 23,
   "metadata": {},
   "outputs": [
    {
     "name": "stdout",
     "output_type": "stream",
     "text": [
      "Print String in Positional order: \n",
      "Natural Language Processing\n"
     ]
    }
   ],
   "source": [
    "# Positional Formatting \n",
    "String = \"{1} {0} {2}\".format('Language', 'Natural', 'Processing') \n",
    "print(\"Print String in Positional order: \") \n",
    "print(String) "
   ]
  },
  {
   "cell_type": "code",
   "execution_count": 24,
   "metadata": {},
   "outputs": [
    {
     "name": "stdout",
     "output_type": "stream",
     "text": [
      "Print String in order of Keywords: \n",
      "Natural Language Processing\n"
     ]
    }
   ],
   "source": [
    "# Keyword Formatting \n",
    "String1 = \"{n} {l} {p}\".format(l= 'Language', n= 'Natural', p= 'Processing') \n",
    "print(\"Print String in order of Keywords: \") \n",
    "print(String1) "
   ]
  },
  {
   "cell_type": "markdown",
   "metadata": {},
   "source": [
    "### f-Strings: A New and Improved Way to Format Strings in Python"
   ]
  },
  {
   "cell_type": "code",
   "execution_count": 25,
   "metadata": {},
   "outputs": [
    {
     "name": "stdout",
     "output_type": "stream",
     "text": [
      "Hello, Tushar. You are 23 years old.\n"
     ]
    }
   ],
   "source": [
    "name = \"Tushar\"\n",
    "age = 23\n",
    "print(f\"Hello, {name}. You are {age} years old.\")"
   ]
  },
  {
   "cell_type": "code",
   "execution_count": 26,
   "metadata": {},
   "outputs": [
    {
     "name": "stdout",
     "output_type": "stream",
     "text": [
      "Hello, Tushar. You are 23.\n"
     ]
    }
   ],
   "source": [
    "# It would also be valid to use a capital letter F\n",
    "print(F\"Hello, {name}. You are {age}.\")"
   ]
  },
  {
   "cell_type": "code",
   "execution_count": 27,
   "metadata": {},
   "outputs": [
    {
     "name": "stdout",
     "output_type": "stream",
     "text": [
      "74\n"
     ]
    }
   ],
   "source": [
    "print(f\"{2 * 37}\")"
   ]
  },
  {
   "cell_type": "markdown",
   "metadata": {},
   "source": [
    "##### The f in f-strings may as well stand for \"fast\"."
   ]
  },
  {
   "cell_type": "code",
   "execution_count": 28,
   "metadata": {},
   "outputs": [
    {
     "data": {
      "text/plain": [
       "0.0003961530000005098"
      ]
     },
     "execution_count": 28,
     "metadata": {},
     "output_type": "execute_result"
    }
   ],
   "source": [
    "import timeit\n",
    "string = \"\"\"\n",
    "name = 'Anjan'\n",
    "age = 26\n",
    "'{} is {}.format(name, age)'\n",
    "\"\"\"\n",
    "timeit.timeit(string, number = 10000)"
   ]
  },
  {
   "cell_type": "code",
   "execution_count": 29,
   "metadata": {},
   "outputs": [
    {
     "data": {
      "text/plain": [
       "0.0025784850000007964"
      ]
     },
     "execution_count": 29,
     "metadata": {},
     "output_type": "execute_result"
    }
   ],
   "source": [
    "import timeit\n",
    "string = \"\"\"\n",
    "name = 'Anjan'\n",
    "age = 26\n",
    "f'{name} is {age}'\n",
    "\"\"\"\n",
    "timeit.timeit(string, number = 10000)"
   ]
  },
  {
   "cell_type": "code",
   "execution_count": 30,
   "metadata": {},
   "outputs": [
    {
     "name": "stdout",
     "output_type": "stream",
     "text": [
      "Author     Topic    Pages  \n",
      "Twain      Rafting      601\n",
      "Feynman    Physics       95\n",
      "Hamilton   Mythology     144\n"
     ]
    }
   ],
   "source": [
    "# Spacing and padding in f strings\n",
    "library = [('Author', 'Topic', 'Pages'), ('Twain', 'Rafting', 601), ('Feynman', 'Physics', 95), ('Hamilton', 'Mythology', 144)]\n",
    "\n",
    "for book in library:\n",
    "    print(f'{book[0]:{10}} {book[1]:{8}} {book[2]:{7}}')"
   ]
  },
  {
   "cell_type": "markdown",
   "metadata": {},
   "source": [
    "## String Functions"
   ]
  },
  {
   "cell_type": "code",
   "execution_count": 31,
   "metadata": {},
   "outputs": [],
   "source": [
    "import pandas as pd"
   ]
  },
  {
   "cell_type": "code",
   "execution_count": 33,
   "metadata": {},
   "outputs": [],
   "source": [
    "string_functions = pd.read_html('https://www.programiz.com/python-programming/methods/string')"
   ]
  },
  {
   "cell_type": "code",
   "execution_count": 35,
   "metadata": {},
   "outputs": [],
   "source": [
    "string_functions = string_functions[0]"
   ]
  },
  {
   "cell_type": "code",
   "execution_count": 36,
   "metadata": {},
   "outputs": [],
   "source": [
    "pd.set_option('display.max_rows', 100)"
   ]
  },
  {
   "cell_type": "code",
   "execution_count": 37,
   "metadata": {},
   "outputs": [
    {
     "data": {
      "text/html": [
       "<div>\n",
       "<style scoped>\n",
       "    .dataframe tbody tr th:only-of-type {\n",
       "        vertical-align: middle;\n",
       "    }\n",
       "\n",
       "    .dataframe tbody tr th {\n",
       "        vertical-align: top;\n",
       "    }\n",
       "\n",
       "    .dataframe thead th {\n",
       "        text-align: right;\n",
       "    }\n",
       "</style>\n",
       "<table border=\"1\" class=\"dataframe\">\n",
       "  <thead>\n",
       "    <tr style=\"text-align: right;\">\n",
       "      <th></th>\n",
       "      <th>Method</th>\n",
       "      <th>Description</th>\n",
       "    </tr>\n",
       "  </thead>\n",
       "  <tbody>\n",
       "    <tr>\n",
       "      <td>0</td>\n",
       "      <td>Python String capitalize()</td>\n",
       "      <td>Converts first character to Capital Letter</td>\n",
       "    </tr>\n",
       "    <tr>\n",
       "      <td>1</td>\n",
       "      <td>Python String center()</td>\n",
       "      <td>Pads string with specified character</td>\n",
       "    </tr>\n",
       "    <tr>\n",
       "      <td>2</td>\n",
       "      <td>Python String casefold()</td>\n",
       "      <td>converts to casefolded strings</td>\n",
       "    </tr>\n",
       "    <tr>\n",
       "      <td>3</td>\n",
       "      <td>Python String count()</td>\n",
       "      <td>returns occurrences of substring in string</td>\n",
       "    </tr>\n",
       "    <tr>\n",
       "      <td>4</td>\n",
       "      <td>Python String endswith()</td>\n",
       "      <td>Checks if String Ends with the Specified Suffix</td>\n",
       "    </tr>\n",
       "    <tr>\n",
       "      <td>5</td>\n",
       "      <td>Python String expandtabs()</td>\n",
       "      <td>Replaces Tab character With Spaces</td>\n",
       "    </tr>\n",
       "    <tr>\n",
       "      <td>6</td>\n",
       "      <td>Python String encode()</td>\n",
       "      <td>returns encoded string of given string</td>\n",
       "    </tr>\n",
       "    <tr>\n",
       "      <td>7</td>\n",
       "      <td>Python String find()</td>\n",
       "      <td>Returns the index of first occurrence of subst...</td>\n",
       "    </tr>\n",
       "    <tr>\n",
       "      <td>8</td>\n",
       "      <td>Python String format()</td>\n",
       "      <td>formats string into nicer output</td>\n",
       "    </tr>\n",
       "    <tr>\n",
       "      <td>9</td>\n",
       "      <td>Python String index()</td>\n",
       "      <td>Returns Index of Substring</td>\n",
       "    </tr>\n",
       "    <tr>\n",
       "      <td>10</td>\n",
       "      <td>Python String isalnum()</td>\n",
       "      <td>Checks Alphanumeric Character</td>\n",
       "    </tr>\n",
       "    <tr>\n",
       "      <td>11</td>\n",
       "      <td>Python String isalpha()</td>\n",
       "      <td>Checks if All Characters are Alphabets</td>\n",
       "    </tr>\n",
       "    <tr>\n",
       "      <td>12</td>\n",
       "      <td>Python String isdecimal()</td>\n",
       "      <td>Checks Decimal Characters</td>\n",
       "    </tr>\n",
       "    <tr>\n",
       "      <td>13</td>\n",
       "      <td>Python String isdigit()</td>\n",
       "      <td>Checks Digit Characters</td>\n",
       "    </tr>\n",
       "    <tr>\n",
       "      <td>14</td>\n",
       "      <td>Python String isidentifier()</td>\n",
       "      <td>Checks for Valid Identifier</td>\n",
       "    </tr>\n",
       "    <tr>\n",
       "      <td>15</td>\n",
       "      <td>Python String islower()</td>\n",
       "      <td>Checks if all Alphabets in a String are Lowercase</td>\n",
       "    </tr>\n",
       "    <tr>\n",
       "      <td>16</td>\n",
       "      <td>Python String isnumeric()</td>\n",
       "      <td>Checks Numeric Characters</td>\n",
       "    </tr>\n",
       "    <tr>\n",
       "      <td>17</td>\n",
       "      <td>Python String isprintable()</td>\n",
       "      <td>Checks Printable Character</td>\n",
       "    </tr>\n",
       "    <tr>\n",
       "      <td>18</td>\n",
       "      <td>Python String isspace()</td>\n",
       "      <td>Checks Whitespace Characters</td>\n",
       "    </tr>\n",
       "    <tr>\n",
       "      <td>19</td>\n",
       "      <td>Python String istitle()</td>\n",
       "      <td>Checks for Titlecased String</td>\n",
       "    </tr>\n",
       "    <tr>\n",
       "      <td>20</td>\n",
       "      <td>Python String isupper()</td>\n",
       "      <td>returns if all characters are uppercase charac...</td>\n",
       "    </tr>\n",
       "    <tr>\n",
       "      <td>21</td>\n",
       "      <td>Python String join()</td>\n",
       "      <td>Returns a Concatenated String</td>\n",
       "    </tr>\n",
       "    <tr>\n",
       "      <td>22</td>\n",
       "      <td>Python String ljust()</td>\n",
       "      <td>returns left-justified string of given width</td>\n",
       "    </tr>\n",
       "    <tr>\n",
       "      <td>23</td>\n",
       "      <td>Python String rjust()</td>\n",
       "      <td>returns right-justified string of given width</td>\n",
       "    </tr>\n",
       "    <tr>\n",
       "      <td>24</td>\n",
       "      <td>Python String lower()</td>\n",
       "      <td>returns lowercased string</td>\n",
       "    </tr>\n",
       "    <tr>\n",
       "      <td>25</td>\n",
       "      <td>Python String upper()</td>\n",
       "      <td>returns uppercased string</td>\n",
       "    </tr>\n",
       "    <tr>\n",
       "      <td>26</td>\n",
       "      <td>Python String swapcase()</td>\n",
       "      <td>swap uppercase characters to lowercase; vice v...</td>\n",
       "    </tr>\n",
       "    <tr>\n",
       "      <td>27</td>\n",
       "      <td>Python String lstrip()</td>\n",
       "      <td>Removes Leading Characters</td>\n",
       "    </tr>\n",
       "    <tr>\n",
       "      <td>28</td>\n",
       "      <td>Python String rstrip()</td>\n",
       "      <td>Removes Trailing Characters</td>\n",
       "    </tr>\n",
       "    <tr>\n",
       "      <td>29</td>\n",
       "      <td>Python String strip()</td>\n",
       "      <td>Removes Both Leading and Trailing Characters</td>\n",
       "    </tr>\n",
       "    <tr>\n",
       "      <td>30</td>\n",
       "      <td>Python String partition()</td>\n",
       "      <td>Returns a Tuple</td>\n",
       "    </tr>\n",
       "    <tr>\n",
       "      <td>31</td>\n",
       "      <td>Python String maketrans()</td>\n",
       "      <td>returns a translation table</td>\n",
       "    </tr>\n",
       "    <tr>\n",
       "      <td>32</td>\n",
       "      <td>Python String rpartition()</td>\n",
       "      <td>Returns a Tuple</td>\n",
       "    </tr>\n",
       "    <tr>\n",
       "      <td>33</td>\n",
       "      <td>Python String translate()</td>\n",
       "      <td>returns mapped charactered string</td>\n",
       "    </tr>\n",
       "    <tr>\n",
       "      <td>34</td>\n",
       "      <td>Python String replace()</td>\n",
       "      <td>Replaces Substring Inside</td>\n",
       "    </tr>\n",
       "    <tr>\n",
       "      <td>35</td>\n",
       "      <td>Python String rfind()</td>\n",
       "      <td>Returns the Highest Index of Substring</td>\n",
       "    </tr>\n",
       "    <tr>\n",
       "      <td>36</td>\n",
       "      <td>Python String rindex()</td>\n",
       "      <td>Returns Highest Index of Substring</td>\n",
       "    </tr>\n",
       "    <tr>\n",
       "      <td>37</td>\n",
       "      <td>Python String split()</td>\n",
       "      <td>Splits String from Left</td>\n",
       "    </tr>\n",
       "    <tr>\n",
       "      <td>38</td>\n",
       "      <td>Python String rsplit()</td>\n",
       "      <td>Splits String From Right</td>\n",
       "    </tr>\n",
       "    <tr>\n",
       "      <td>39</td>\n",
       "      <td>Python String splitlines()</td>\n",
       "      <td>Splits String at Line Boundaries</td>\n",
       "    </tr>\n",
       "    <tr>\n",
       "      <td>40</td>\n",
       "      <td>Python String startswith()</td>\n",
       "      <td>Checks if String Starts with the Specified String</td>\n",
       "    </tr>\n",
       "    <tr>\n",
       "      <td>41</td>\n",
       "      <td>Python String title()</td>\n",
       "      <td>Returns a Title Cased String</td>\n",
       "    </tr>\n",
       "    <tr>\n",
       "      <td>42</td>\n",
       "      <td>Python String zfill()</td>\n",
       "      <td>Returns a Copy of The String Padded With Zeros</td>\n",
       "    </tr>\n",
       "    <tr>\n",
       "      <td>43</td>\n",
       "      <td>Python String format_map()</td>\n",
       "      <td>Formats the String Using Dictionary</td>\n",
       "    </tr>\n",
       "    <tr>\n",
       "      <td>44</td>\n",
       "      <td>Python any()</td>\n",
       "      <td>Checks if any Element of an Iterable is True</td>\n",
       "    </tr>\n",
       "    <tr>\n",
       "      <td>45</td>\n",
       "      <td>Python all()</td>\n",
       "      <td>returns true when all elements in iterable is ...</td>\n",
       "    </tr>\n",
       "    <tr>\n",
       "      <td>46</td>\n",
       "      <td>Python ascii()</td>\n",
       "      <td>Returns String Containing Printable Representa...</td>\n",
       "    </tr>\n",
       "    <tr>\n",
       "      <td>47</td>\n",
       "      <td>Python bool()</td>\n",
       "      <td>Converts a Value to Boolean</td>\n",
       "    </tr>\n",
       "    <tr>\n",
       "      <td>48</td>\n",
       "      <td>Python bytearray()</td>\n",
       "      <td>returns array of given byte size</td>\n",
       "    </tr>\n",
       "    <tr>\n",
       "      <td>49</td>\n",
       "      <td>Python bytes()</td>\n",
       "      <td>returns immutable bytes object</td>\n",
       "    </tr>\n",
       "    <tr>\n",
       "      <td>50</td>\n",
       "      <td>Python compile()</td>\n",
       "      <td>Returns a Python code object</td>\n",
       "    </tr>\n",
       "    <tr>\n",
       "      <td>51</td>\n",
       "      <td>Python complex()</td>\n",
       "      <td>Creates a Complex Number</td>\n",
       "    </tr>\n",
       "    <tr>\n",
       "      <td>52</td>\n",
       "      <td>Python enumerate()</td>\n",
       "      <td>Returns an Enumerate Object</td>\n",
       "    </tr>\n",
       "    <tr>\n",
       "      <td>53</td>\n",
       "      <td>Python filter()</td>\n",
       "      <td>constructs iterator from elements which are true</td>\n",
       "    </tr>\n",
       "    <tr>\n",
       "      <td>54</td>\n",
       "      <td>Python float()</td>\n",
       "      <td>returns floating point number from number, string</td>\n",
       "    </tr>\n",
       "    <tr>\n",
       "      <td>55</td>\n",
       "      <td>Python input()</td>\n",
       "      <td>reads and returns a line of string</td>\n",
       "    </tr>\n",
       "    <tr>\n",
       "      <td>56</td>\n",
       "      <td>Python int()</td>\n",
       "      <td>returns integer from a number or string</td>\n",
       "    </tr>\n",
       "    <tr>\n",
       "      <td>57</td>\n",
       "      <td>Python iter()</td>\n",
       "      <td>returns iterator for an object</td>\n",
       "    </tr>\n",
       "    <tr>\n",
       "      <td>58</td>\n",
       "      <td>Python len()</td>\n",
       "      <td>Returns Length of an Object</td>\n",
       "    </tr>\n",
       "    <tr>\n",
       "      <td>59</td>\n",
       "      <td>Python max()</td>\n",
       "      <td>returns largest element</td>\n",
       "    </tr>\n",
       "    <tr>\n",
       "      <td>60</td>\n",
       "      <td>Python min()</td>\n",
       "      <td>returns smallest element</td>\n",
       "    </tr>\n",
       "    <tr>\n",
       "      <td>61</td>\n",
       "      <td>Python map()</td>\n",
       "      <td>Applies Function and Returns a List</td>\n",
       "    </tr>\n",
       "    <tr>\n",
       "      <td>62</td>\n",
       "      <td>Python ord()</td>\n",
       "      <td>returns Unicode code point for Unicode character</td>\n",
       "    </tr>\n",
       "    <tr>\n",
       "      <td>63</td>\n",
       "      <td>Python reversed()</td>\n",
       "      <td>returns reversed iterator of a sequence</td>\n",
       "    </tr>\n",
       "    <tr>\n",
       "      <td>64</td>\n",
       "      <td>Python slice()</td>\n",
       "      <td>creates a slice object specified by range()</td>\n",
       "    </tr>\n",
       "    <tr>\n",
       "      <td>65</td>\n",
       "      <td>Python sorted()</td>\n",
       "      <td>returns sorted list from a given iterable</td>\n",
       "    </tr>\n",
       "    <tr>\n",
       "      <td>66</td>\n",
       "      <td>Python sum()</td>\n",
       "      <td>Add items of an Iterable</td>\n",
       "    </tr>\n",
       "    <tr>\n",
       "      <td>67</td>\n",
       "      <td>Python zip()</td>\n",
       "      <td>Returns an Iterator of Tuples</td>\n",
       "    </tr>\n",
       "  </tbody>\n",
       "</table>\n",
       "</div>"
      ],
      "text/plain": [
       "                          Method  \\\n",
       "0     Python String capitalize()   \n",
       "1         Python String center()   \n",
       "2       Python String casefold()   \n",
       "3          Python String count()   \n",
       "4       Python String endswith()   \n",
       "5     Python String expandtabs()   \n",
       "6         Python String encode()   \n",
       "7           Python String find()   \n",
       "8         Python String format()   \n",
       "9          Python String index()   \n",
       "10       Python String isalnum()   \n",
       "11       Python String isalpha()   \n",
       "12     Python String isdecimal()   \n",
       "13       Python String isdigit()   \n",
       "14  Python String isidentifier()   \n",
       "15       Python String islower()   \n",
       "16     Python String isnumeric()   \n",
       "17   Python String isprintable()   \n",
       "18       Python String isspace()   \n",
       "19       Python String istitle()   \n",
       "20       Python String isupper()   \n",
       "21          Python String join()   \n",
       "22         Python String ljust()   \n",
       "23         Python String rjust()   \n",
       "24         Python String lower()   \n",
       "25         Python String upper()   \n",
       "26      Python String swapcase()   \n",
       "27        Python String lstrip()   \n",
       "28        Python String rstrip()   \n",
       "29         Python String strip()   \n",
       "30     Python String partition()   \n",
       "31     Python String maketrans()   \n",
       "32    Python String rpartition()   \n",
       "33     Python String translate()   \n",
       "34       Python String replace()   \n",
       "35         Python String rfind()   \n",
       "36        Python String rindex()   \n",
       "37         Python String split()   \n",
       "38        Python String rsplit()   \n",
       "39    Python String splitlines()   \n",
       "40    Python String startswith()   \n",
       "41         Python String title()   \n",
       "42         Python String zfill()   \n",
       "43    Python String format_map()   \n",
       "44                  Python any()   \n",
       "45                  Python all()   \n",
       "46                Python ascii()   \n",
       "47                 Python bool()   \n",
       "48            Python bytearray()   \n",
       "49                Python bytes()   \n",
       "50              Python compile()   \n",
       "51              Python complex()   \n",
       "52            Python enumerate()   \n",
       "53               Python filter()   \n",
       "54                Python float()   \n",
       "55                Python input()   \n",
       "56                  Python int()   \n",
       "57                 Python iter()   \n",
       "58                  Python len()   \n",
       "59                  Python max()   \n",
       "60                  Python min()   \n",
       "61                  Python map()   \n",
       "62                  Python ord()   \n",
       "63             Python reversed()   \n",
       "64                Python slice()   \n",
       "65               Python sorted()   \n",
       "66                  Python sum()   \n",
       "67                  Python zip()   \n",
       "\n",
       "                                          Description  \n",
       "0          Converts first character to Capital Letter  \n",
       "1                Pads string with specified character  \n",
       "2                      converts to casefolded strings  \n",
       "3          returns occurrences of substring in string  \n",
       "4     Checks if String Ends with the Specified Suffix  \n",
       "5                  Replaces Tab character With Spaces  \n",
       "6              returns encoded string of given string  \n",
       "7   Returns the index of first occurrence of subst...  \n",
       "8                    formats string into nicer output  \n",
       "9                          Returns Index of Substring  \n",
       "10                      Checks Alphanumeric Character  \n",
       "11             Checks if All Characters are Alphabets  \n",
       "12                          Checks Decimal Characters  \n",
       "13                            Checks Digit Characters  \n",
       "14                        Checks for Valid Identifier  \n",
       "15  Checks if all Alphabets in a String are Lowercase  \n",
       "16                          Checks Numeric Characters  \n",
       "17                         Checks Printable Character  \n",
       "18                       Checks Whitespace Characters  \n",
       "19                       Checks for Titlecased String  \n",
       "20  returns if all characters are uppercase charac...  \n",
       "21                      Returns a Concatenated String  \n",
       "22       returns left-justified string of given width  \n",
       "23      returns right-justified string of given width  \n",
       "24                          returns lowercased string  \n",
       "25                          returns uppercased string  \n",
       "26  swap uppercase characters to lowercase; vice v...  \n",
       "27                         Removes Leading Characters  \n",
       "28                        Removes Trailing Characters  \n",
       "29       Removes Both Leading and Trailing Characters  \n",
       "30                                    Returns a Tuple  \n",
       "31                        returns a translation table  \n",
       "32                                    Returns a Tuple  \n",
       "33                  returns mapped charactered string  \n",
       "34                          Replaces Substring Inside  \n",
       "35             Returns the Highest Index of Substring  \n",
       "36                 Returns Highest Index of Substring  \n",
       "37                            Splits String from Left  \n",
       "38                           Splits String From Right  \n",
       "39                   Splits String at Line Boundaries  \n",
       "40  Checks if String Starts with the Specified String  \n",
       "41                       Returns a Title Cased String  \n",
       "42     Returns a Copy of The String Padded With Zeros  \n",
       "43                Formats the String Using Dictionary  \n",
       "44       Checks if any Element of an Iterable is True  \n",
       "45  returns true when all elements in iterable is ...  \n",
       "46  Returns String Containing Printable Representa...  \n",
       "47                        Converts a Value to Boolean  \n",
       "48                   returns array of given byte size  \n",
       "49                     returns immutable bytes object  \n",
       "50                       Returns a Python code object  \n",
       "51                           Creates a Complex Number  \n",
       "52                        Returns an Enumerate Object  \n",
       "53   constructs iterator from elements which are true  \n",
       "54  returns floating point number from number, string  \n",
       "55                 reads and returns a line of string  \n",
       "56            returns integer from a number or string  \n",
       "57                     returns iterator for an object  \n",
       "58                        Returns Length of an Object  \n",
       "59                            returns largest element  \n",
       "60                           returns smallest element  \n",
       "61                Applies Function and Returns a List  \n",
       "62   returns Unicode code point for Unicode character  \n",
       "63            returns reversed iterator of a sequence  \n",
       "64        creates a slice object specified by range()  \n",
       "65          returns sorted list from a given iterable  \n",
       "66                           Add items of an Iterable  \n",
       "67                      Returns an Iterator of Tuples  "
      ]
     },
     "execution_count": 37,
     "metadata": {},
     "output_type": "execute_result"
    }
   ],
   "source": [
    "string_functions"
   ]
  },
  {
   "cell_type": "markdown",
   "metadata": {},
   "source": [
    "### Some most commonly used string functions"
   ]
  },
  {
   "cell_type": "code",
   "execution_count": 43,
   "metadata": {},
   "outputs": [
    {
     "name": "stdout",
     "output_type": "stream",
     "text": [
      "Supervisedlearning\n"
     ]
    }
   ],
   "source": [
    "string= \"supervisedlearning\"\n",
    "# Capitalizes the target strings first character.\n",
    "print(string.capitalize())"
   ]
  },
  {
   "cell_type": "code",
   "execution_count": 44,
   "metadata": {},
   "outputs": [
    {
     "data": {
      "text/plain": [
       "'supervisedlearning'"
      ]
     },
     "execution_count": 44,
     "metadata": {},
     "output_type": "execute_result"
    }
   ],
   "source": [
    "string= \"SupervisedLearning\"\n",
    "# returns a copy of s with all alphabetic characters converted to lowercase\n",
    "string.lower()"
   ]
  },
  {
   "cell_type": "code",
   "execution_count": 45,
   "metadata": {},
   "outputs": [
    {
     "data": {
      "text/plain": [
       "'Natural Language Processing'"
      ]
     },
     "execution_count": 45,
     "metadata": {},
     "output_type": "execute_result"
    }
   ],
   "source": [
    "string= \"natural language processing\"\n",
    "# returns a copy of s in which the first letter of each word is converted to uppercase and remaining letters are lowercase\n",
    "string.title()"
   ]
  },
  {
   "cell_type": "code",
   "execution_count": 46,
   "metadata": {},
   "outputs": [
    {
     "data": {
      "text/plain": [
       "'SUPERVISEDLEARNING'"
      ]
     },
     "execution_count": 46,
     "metadata": {},
     "output_type": "execute_result"
    }
   ],
   "source": [
    "string= \"supervisedlearning\"\n",
    "string.upper()"
   ]
  },
  {
   "cell_type": "code",
   "execution_count": 47,
   "metadata": {},
   "outputs": [
    {
     "data": {
      "text/plain": [
       "True"
      ]
     },
     "execution_count": 47,
     "metadata": {},
     "output_type": "execute_result"
    }
   ],
   "source": [
    "string= \"supervisedlearning\"\n",
    "# Determines whether the target string ends with a given substring.\n",
    "string.endswith('g')"
   ]
  },
  {
   "cell_type": "code",
   "execution_count": 48,
   "metadata": {},
   "outputs": [
    {
     "data": {
      "text/plain": [
       "True"
      ]
     },
     "execution_count": 48,
     "metadata": {},
     "output_type": "execute_result"
    }
   ],
   "source": [
    "string= \"supervisedlearning\"\n",
    "# Determines whether the target string starts with a given substring.\n",
    "string.startswith('s')"
   ]
  },
  {
   "cell_type": "code",
   "execution_count": 53,
   "metadata": {},
   "outputs": [
    {
     "data": {
      "text/plain": [
       "False"
      ]
     },
     "execution_count": 53,
     "metadata": {},
     "output_type": "execute_result"
    }
   ],
   "source": [
    "# Determines whether the target string consists of alphabetic characters only.\n",
    "'abc123'.isalpha()"
   ]
  },
  {
   "cell_type": "code",
   "execution_count": 55,
   "metadata": {},
   "outputs": [
    {
     "data": {
      "text/plain": [
       "False"
      ]
     },
     "execution_count": 55,
     "metadata": {},
     "output_type": "execute_result"
    }
   ],
   "source": [
    "#Determines whether the target string consists of digit characters only.\n",
    "'123abc'.isdigit()"
   ]
  },
  {
   "cell_type": "code",
   "execution_count": 56,
   "metadata": {},
   "outputs": [
    {
     "data": {
      "text/plain": [
       "['Supervised', 'Learning']"
      ]
     },
     "execution_count": 56,
     "metadata": {},
     "output_type": "execute_result"
    }
   ],
   "source": [
    "string= \"Supervised Learning\"\n",
    "# Splits a string into a list of substrings.\n",
    "string.split()"
   ]
  },
  {
   "cell_type": "code",
   "execution_count": 57,
   "metadata": {},
   "outputs": [
    {
     "data": {
      "text/plain": [
       "['Supervised', 'Learning']"
      ]
     },
     "execution_count": 57,
     "metadata": {},
     "output_type": "execute_result"
    }
   ],
   "source": [
    "string= \"Supervised,Learning\"\n",
    "string.split(',')"
   ]
  },
  {
   "cell_type": "code",
   "execution_count": 58,
   "metadata": {},
   "outputs": [
    {
     "data": {
      "text/plain": [
       "['www', 'supervisedlearning.com']"
      ]
     },
     "execution_count": 58,
     "metadata": {},
     "output_type": "execute_result"
    }
   ],
   "source": [
    "#with maxsplit=1 it splits for one \n",
    "'www.supervisedlearning.com'.split('.', maxsplit=1)"
   ]
  },
  {
   "cell_type": "markdown",
   "metadata": {},
   "source": [
    "#### Explaining all those 67 string functions is out of the scope of this tutorial. So, just go through the above table once and you will be ready to play with strings."
   ]
  },
  {
   "cell_type": "markdown",
   "metadata": {},
   "source": [
    "## Working with Text Files"
   ]
  },
  {
   "cell_type": "code",
   "execution_count": 59,
   "metadata": {},
   "outputs": [],
   "source": [
    "import os"
   ]
  },
  {
   "cell_type": "code",
   "execution_count": 60,
   "metadata": {},
   "outputs": [
    {
     "data": {
      "text/plain": [
       "'E:\\\\Jupiter\\\\NLP by Prudhvi'"
      ]
     },
     "execution_count": 60,
     "metadata": {},
     "output_type": "execute_result"
    }
   ],
   "source": [
    "# Get current working Directory\n",
    "os.getcwd()"
   ]
  },
  {
   "cell_type": "code",
   "execution_count": 63,
   "metadata": {},
   "outputs": [],
   "source": [
    "# Change current working directory\n",
    "current_dir = os.getcwd()\n",
    "os.chdir(path= current_dir)"
   ]
  },
  {
   "cell_type": "markdown",
   "metadata": {},
   "source": [
    "#### Reading a text file"
   ]
  },
  {
   "cell_type": "code",
   "execution_count": 66,
   "metadata": {},
   "outputs": [
    {
     "data": {
      "text/plain": [
       "('shakespeare.txt', <http.client.HTTPMessage at 0xa74ca90>)"
      ]
     },
     "execution_count": 66,
     "metadata": {},
     "output_type": "execute_result"
    }
   ],
   "source": [
    "# Downloading using urlretrieve from http request\n",
    "import urllib\n",
    "urllib.request.urlretrieve(\"https://ocw.mit.edu/ans7870/6/6.006/s08/lecturenotes/files/t8.shakespeare.txt\", \"shakespeare.txt\")"
   ]
  },
  {
   "cell_type": "code",
   "execution_count": 67,
   "metadata": {},
   "outputs": [],
   "source": [
    "# Open the text.txt file\n",
    "my_file = open('shakespeare.txt')"
   ]
  },
  {
   "cell_type": "code",
   "execution_count": 68,
   "metadata": {},
   "outputs": [],
   "source": [
    "# We can now read the file\n",
    "contents= my_file.read()"
   ]
  },
  {
   "cell_type": "code",
   "execution_count": 69,
   "metadata": {},
   "outputs": [
    {
     "data": {
      "text/plain": [
       "'This is the 100th Etext file presented by Project Gutenberg, and\\nis presented in cooperation with World Library, Inc., from their\\nLibrary of the Future and Shakespeare CDROMS.  Project Gutenberg\\noften releases Etexts that are NOT placed in the Public Domain!!\\n\\nShakespeare\\n\\n*This Etext has certain copyright implications you should read!*\\n\\n<<THIS ELECTRONIC VERSION OF THE COMPLETE WORKS OF WILLIAM\\nSHAKESPEARE IS COPYRIGHT 1990-1993 BY WORLD LIBRARY, INC., AND IS\\nPROVIDED BY PROJECT GUTENBERG ETEXT'"
      ]
     },
     "execution_count": 69,
     "metadata": {},
     "output_type": "execute_result"
    }
   ],
   "source": [
    "contents[:500]"
   ]
  },
  {
   "cell_type": "code",
   "execution_count": 70,
   "metadata": {},
   "outputs": [
    {
     "data": {
      "text/plain": [
       "''"
      ]
     },
     "execution_count": 70,
     "metadata": {},
     "output_type": "execute_result"
    }
   ],
   "source": [
    "# But what happens if we try to read it again?\n",
    "my_file.read()"
   ]
  },
  {
   "cell_type": "markdown",
   "metadata": {},
   "source": [
    "This happens because you can imagine the reading \"cursor\" is at the end of the file after having read it. So there is nothing left to read. We can reset the \"cursor\" like this:"
   ]
  },
  {
   "cell_type": "code",
   "execution_count": 71,
   "metadata": {},
   "outputs": [
    {
     "data": {
      "text/plain": [
       "0"
      ]
     },
     "execution_count": 71,
     "metadata": {},
     "output_type": "execute_result"
    }
   ],
   "source": [
    "# Seek to the start of file (index 0)\n",
    "my_file.seek(0)"
   ]
  },
  {
   "cell_type": "code",
   "execution_count": 73,
   "metadata": {},
   "outputs": [
    {
     "data": {
      "text/plain": [
       "'This is the 100th Etext file presented by Project Gutenberg, and\\nis presented in cooperation with World Library, Inc., from their\\nLibrary of the Future and Shakespeare CDROMS.  Project Gutenberg\\noften releases Etexts that are NOT placed in the Public Domain!!\\n\\nShakespeare\\n\\n*This Etext has certain copyright implications you should read!*\\n\\n<<THIS ELECTRONIC VERSION OF THE COMPLETE WORKS OF WILLIAM\\nSHAKESPEARE IS COPYRIGHT 1990-1993 BY WORLD LIBRARY, INC., AND IS\\nPROVIDED BY PROJECT GUTENBERG ETEXT OF ILLINOIS BENEDICTINE COLLEGE\\nWITH PERMISSION.  ELECTRONIC AND MACHINE READABLE COPIES MAY BE\\nDISTRIBUTED SO LONG AS SUCH COPIES (1) ARE FOR YOUR OR OTHERS\\nPERSONAL USE ONLY, AND (2) ARE NOT DISTRIBUTED OR USED\\nCOMMERCIALLY.  PROHIBITED COMMERCIAL DISTRIBUTION INCLUDES BY ANY\\nSERVICE THAT CHARGES FOR DOWNLOAD TIME OR FOR MEMBERSHIP.>>\\n\\n*Project Gutenberg is proud to cooperate with The World Library*\\nin the presentation of The Complete Works of William Shakespeare\\nfor your reading for education'"
      ]
     },
     "execution_count": 73,
     "metadata": {},
     "output_type": "execute_result"
    }
   ],
   "source": [
    "# Now read again\n",
    "my_file.read()[:1001]"
   ]
  },
  {
   "cell_type": "code",
   "execution_count": 74,
   "metadata": {},
   "outputs": [
    {
     "data": {
      "text/plain": [
       "['This is the 100th Etext file presented by Project Gutenberg, and\\n',\n",
       " 'is presented in cooperation with World Library, Inc., from their\\n',\n",
       " 'Library of the Future and Shakespeare CDROMS.  Project Gutenberg\\n',\n",
       " 'often releases Etexts that are NOT placed in the Public Domain!!\\n',\n",
       " '\\n']"
      ]
     },
     "execution_count": 74,
     "metadata": {},
     "output_type": "execute_result"
    }
   ],
   "source": [
    "# Readlines returns a list of the lines in the file\n",
    "my_file.seek(0)\n",
    "my_file.readlines()[:5]"
   ]
  },
  {
   "cell_type": "code",
   "execution_count": 75,
   "metadata": {},
   "outputs": [],
   "source": [
    "my_file.close()"
   ]
  },
  {
   "cell_type": "markdown",
   "metadata": {},
   "source": [
    "### Writing to a file"
   ]
  },
  {
   "cell_type": "code",
   "execution_count": 76,
   "metadata": {},
   "outputs": [],
   "source": [
    "# Add a second argument to the function, 'w' which stands for write.\n",
    "# Passing 'w+' lets us read and write to the file\n",
    "\n",
    "my_file = open('test.txt','w+')"
   ]
  },
  {
   "cell_type": "code",
   "execution_count": 77,
   "metadata": {},
   "outputs": [
    {
     "data": {
      "text/plain": [
       "24"
      ]
     },
     "execution_count": 77,
     "metadata": {},
     "output_type": "execute_result"
    }
   ],
   "source": [
    "# Write to the file\n",
    "my_file.write('This is a new first line')"
   ]
  },
  {
   "cell_type": "code",
   "execution_count": 78,
   "metadata": {},
   "outputs": [
    {
     "data": {
      "text/plain": [
       "'This is a new first line'"
      ]
     },
     "execution_count": 78,
     "metadata": {},
     "output_type": "execute_result"
    }
   ],
   "source": [
    "# Read the file\n",
    "my_file.seek(0)\n",
    "my_file.read()"
   ]
  },
  {
   "cell_type": "markdown",
   "metadata": {},
   "source": [
    "### Appending to a text"
   ]
  },
  {
   "cell_type": "code",
   "execution_count": 79,
   "metadata": {},
   "outputs": [
    {
     "data": {
      "text/plain": [
       "23"
      ]
     },
     "execution_count": 79,
     "metadata": {},
     "output_type": "execute_result"
    }
   ],
   "source": [
    "my_file = open('test.txt','a+')\n",
    "my_file.write('\\nThis line is being appended to test.txt')\n",
    "my_file.write('\\nAnd another line here.')"
   ]
  },
  {
   "cell_type": "code",
   "execution_count": 80,
   "metadata": {},
   "outputs": [
    {
     "data": {
      "text/plain": [
       "'This is a new first line\\nThis line is being appended to test.txt\\nAnd another line here.'"
      ]
     },
     "execution_count": 80,
     "metadata": {},
     "output_type": "execute_result"
    }
   ],
   "source": [
    "my_file.seek(0)\n",
    "my_file.read()"
   ]
  },
  {
   "cell_type": "markdown",
   "metadata": {},
   "source": [
    "### Appending using IPython %%writefile magic function"
   ]
  },
  {
   "cell_type": "code",
   "execution_count": 81,
   "metadata": {},
   "outputs": [
    {
     "name": "stdout",
     "output_type": "stream",
     "text": [
      "Appending to test.txt\n"
     ]
    }
   ],
   "source": [
    "%%writefile -a test.txt\n",
    "\n",
    "This is more text being appended to test.txt\n",
    "And another line here."
   ]
  },
  {
   "cell_type": "code",
   "execution_count": 82,
   "metadata": {},
   "outputs": [
    {
     "data": {
      "text/plain": [
       "'This is a new first line\\nThis line is being appended to test.txt\\nAnd another line here.\\nThis is more text being appended to test.txt\\nAnd another line here.\\n'"
      ]
     },
     "execution_count": 82,
     "metadata": {},
     "output_type": "execute_result"
    }
   ],
   "source": [
    "my_file.seek(0)\n",
    "my_file.read()"
   ]
  },
  {
   "cell_type": "code",
   "execution_count": 83,
   "metadata": {},
   "outputs": [],
   "source": [
    "my_file.close()"
   ]
  },
  {
   "cell_type": "markdown",
   "metadata": {},
   "source": [
    "#### You can assign temporary variable names as aliases, and manage the opening and closing of files automatically using a context manager:"
   ]
  },
  {
   "cell_type": "code",
   "execution_count": 84,
   "metadata": {},
   "outputs": [
    {
     "name": "stdout",
     "output_type": "stream",
     "text": [
      "This is a new first line\n",
      "\n"
     ]
    }
   ],
   "source": [
    "with open('test.txt','r') as txt:\n",
    "    first_line = txt.readlines()[0]\n",
    "    \n",
    "print(first_line)"
   ]
  },
  {
   "cell_type": "markdown",
   "metadata": {},
   "source": [
    "## Working with PDFs"
   ]
  },
  {
   "cell_type": "code",
   "execution_count": 85,
   "metadata": {},
   "outputs": [
    {
     "data": {
      "text/plain": [
       "('SLP.pdf', <http.client.HTTPMessage at 0xb056828>)"
      ]
     },
     "execution_count": 85,
     "metadata": {},
     "output_type": "execute_result"
    }
   ],
   "source": [
    "import urllib\n",
    "urllib.request.urlretrieve(\"https://web.stanford.edu/~jurafsky/slp3/2.pdf\", 'SLP.pdf')"
   ]
  },
  {
   "cell_type": "markdown",
   "metadata": {},
   "source": [
    "### Working with PyPDF2"
   ]
  },
  {
   "cell_type": "code",
   "execution_count": 86,
   "metadata": {},
   "outputs": [
    {
     "name": "stdout",
     "output_type": "stream",
     "text": [
      "Requirement already satisfied: PyPDF2 in c:\\programdata\\anaconda3\\lib\\site-packages (1.26.0)\n"
     ]
    }
   ],
   "source": [
    "!pip install PyPDF2"
   ]
  },
  {
   "cell_type": "code",
   "execution_count": 87,
   "metadata": {},
   "outputs": [],
   "source": [
    "import PyPDF2"
   ]
  },
  {
   "cell_type": "code",
   "execution_count": 88,
   "metadata": {},
   "outputs": [],
   "source": [
    "# Notice we read it as a binary with 'rb'\n",
    "f = open('SLP.pdf','rb')"
   ]
  },
  {
   "cell_type": "code",
   "execution_count": 89,
   "metadata": {},
   "outputs": [],
   "source": [
    "pdf_reader = PyPDF2.PdfFileReader(f)"
   ]
  },
  {
   "cell_type": "code",
   "execution_count": 90,
   "metadata": {},
   "outputs": [
    {
     "data": {
      "text/plain": [
       "30"
      ]
     },
     "execution_count": 90,
     "metadata": {},
     "output_type": "execute_result"
    }
   ],
   "source": [
    "#Number of pages\n",
    "pdf_reader.numPages"
   ]
  },
  {
   "cell_type": "code",
   "execution_count": 91,
   "metadata": {},
   "outputs": [],
   "source": [
    "page_one = pdf_reader.getPage(0)"
   ]
  },
  {
   "cell_type": "code",
   "execution_count": 92,
   "metadata": {},
   "outputs": [],
   "source": [
    "# Extracting text from PyPDF2\n",
    "page_one_text = page_one.extractText()"
   ]
  },
  {
   "cell_type": "code",
   "execution_count": 93,
   "metadata": {},
   "outputs": [
    {
     "data": {
      "text/plain": [
       "\"SpeechandLanguageProcessing.DanielJurafsky&JamesH.Martin.Copyright\\nc\\n\\n2019.All\\nrightsreserved.DraftofOctober2,2019.\\nCHAPTER\\n2\\nRegularExpressions,Text\\nNormalization,EditDistance\\nUser:Iamunhappy.\\nELIZA:DOYOUTHINKCOMINGHEREWILLHELPYOUNOTTOBEUNHAPPY\\nUser:Ineedsomehelp,thatmuchseemscertain.\\nELIZA:WHATWOULDITMEANTOYOUIFYOUGOTSOMEHELP\\nUser:PerhapsIcouldlearntogetalongwithmymother.\\nELIZA:TELLMEMOREABOUTYOURFAMILY\\nUser:Mymothertakescareofme.\\nELIZA:WHOELSEINYOUFAMILYTAKESCAREOFYOU\\nUser:Myfather.\\nELIZA:YOURFATHER\\nUser:Youarelikemyfatherinsomeways.\\nWeizenbaum(1966)\\nThedialogueaboveisfrom\\nELIZA\\n,anearlynaturallanguageprocessingsystem\\nELIZA\\nthatcouldcarryonalimitedconversationwithauserbyimitatingtheresponsesof\\naRogerianpsychotherapist\\n(Weizenbaum,1966)\\n.ELIZAisasurprisinglysimple\\nprogramthatusespatternmatchingtorecognizephraseslikeﬁIneedXﬂandtranslate\\nthemintosuitableoutputslikeﬁWhatwoulditmeantoyouifyougotX?ﬂ.This\\nsimpletechniquesucceedsinthisdomainbecauseELIZAdoesn'tactuallyneedto\\nknow\\nanythingtomimicaRogerianpsychotherapist.AsWeizenbaumnotes,thisis\\noneofthefewdialoguegenreswherelistenerscanactasiftheyknownothingofthe\\nworld.Eliza'smimicryofhumanconversationwasremarkablysuccessful:many\\npeoplewhointeractedwithELIZAcametobelievethatitreally\\nunderstood\\nthem\\nandtheirproblems,manycontinuedtobelieveinELIZA'sabilitiesevenafterthe\\nprogram'soperationwasexplainedtothem\\n(Weizenbaum,1976)\\n,andeventoday\\nsuch\\nchatbots\\nareafundiversion.\\nchatbots\\nOfcoursemodernconversationalagentsaremuchmorethanadiversion;they\\ncananswerquestions,bookorrestaurants,functionsforwhichtheyrely\\nonamuchmoresophisticatedunderstandingoftheuser'sintent,aswewillseein\\nChapter26.Nonetheless,thesimplepattern-basedmethodsthatpoweredELIZA\\nandotherchatbotsplayacrucialroleinnaturallanguageprocessing.\\nWe'llbeginwiththemostimportanttoolfordescribingtextpatterns:the\\nregular\\nexpression\\n.Regularexpressionscanbeusedtospecifystringswemightwantto\\nextractfromadocument,fromtransformingﬁIneedXﬂinElizaabove,to\\nstringslike\\n$\\n199\\nor\\n$\\n24.99\\nforextractingtablesofpricesfromadocument.\\nWe'llthenturntoasetoftaskscollectivelycalled\\ntextnormalization\\n,inwhich\\ntext\\nnormalization\\nregularexpressionsplayanimportantpart.Normalizingtextmeansconvertingit\\ntoamoreconvenient,standardform.Forexample,mostofwhatwearegoingto\\ndowithlanguagereliesonseparatingoutor\\ntokenizing\\nwordsfromrunning\\ntext,thetaskof\\ntokenization\\n.Englishwordsareoftenseparatedfromeachother\\ntokenization\\nbywhitespace,butwhitespaceisnotalwayssuf\\nNewYork\\nand\\nrock'n'roll\\naresometimestreatedaslargewordsdespitethefactthattheycontainspaces,while\\nsometimeswe'llneedtoseparate\\nI'm\\nintothetwowords\\nI\\nand\\nam\\n.Forprocessing\\ntweetsortextswe'llneedtotokenize\\nemoticons\\nlike\\n:)\\nor\\nhashtags\\nlike\\n#nlproc\\n.\\n\""
      ]
     },
     "execution_count": 93,
     "metadata": {},
     "output_type": "execute_result"
    }
   ],
   "source": [
    "page_one_text"
   ]
  },
  {
   "cell_type": "code",
   "execution_count": 94,
   "metadata": {},
   "outputs": [],
   "source": [
    "f.close()"
   ]
  },
  {
   "cell_type": "code",
   "execution_count": null,
   "metadata": {},
   "outputs": [],
   "source": []
  },
  {
   "cell_type": "code",
   "execution_count": null,
   "metadata": {},
   "outputs": [],
   "source": []
  },
  {
   "cell_type": "code",
   "execution_count": null,
   "metadata": {},
   "outputs": [],
   "source": []
  }
 ],
 "metadata": {
  "kernelspec": {
   "display_name": "Python 3",
   "language": "python",
   "name": "python3"
  },
  "language_info": {
   "codemirror_mode": {
    "name": "ipython",
    "version": 3
   },
   "file_extension": ".py",
   "mimetype": "text/x-python",
   "name": "python",
   "nbconvert_exporter": "python",
   "pygments_lexer": "ipython3",
   "version": "3.7.3"
  }
 },
 "nbformat": 4,
 "nbformat_minor": 2
}
